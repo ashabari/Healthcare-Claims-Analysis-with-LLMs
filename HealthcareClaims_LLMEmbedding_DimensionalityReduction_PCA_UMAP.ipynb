{
 "cells": [
  {
   "cell_type": "markdown",
   "metadata": {
    "id": "3JRK0fqRlOWN"
   },
   "source": [
    "#Project Statement:\n",
    "Exploring Transformer-based Language Models for Healthcare Finance Text Analysis"
   ]
  },
  {
   "cell_type": "markdown",
   "metadata": {
    "id": "bimeptCNlW50"
   },
   "source": [
    "Healthcare finance generates large amounts of unstructured text data — from insurance claim descriptions and billing codes to financial reports and patient-doctor notes. Understanding these texts is critical for fraud detection, claim validation, and cost optimization.\n",
    "\n",
    "In this project, I have:\n",
    "\n",
    "1. Tokenizer Development\n",
    "\n",
    "a. Built and trained a custom tokenizer on a healthcare-finance text corpus (insurance claims, billing notes, cost summaries).\n",
    "\n",
    "b. Analyzed token distribution and vocabulary coverage across medical + financial jargon.\n",
    "\n",
    "2. Embedding Visualization\n",
    "\n",
    "a. Used a pre-trained Transformer model (e.g., BERT or DistilBERT) to generate embeddings.\n",
    "\n",
    "b. Visualized token/word embeddings (via PCA/TSNE/UMAP) to explore semantic clusters (e.g., medical terms vs. financial terms).\n",
    "\n",
    "3. Impact of Embedding Dimension\n",
    "\n",
    "a. Experimented with varying embedding sizes in a lightweight Transformer model.\n",
    "\n",
    "b. Compared performance on a downstream task such as insurance claim classification (fraud vs. valid) or cost-category prediction.\n",
    "\n",
    "c. Optimized for loss and perplexity, balancing accuracy with model efficiency."
   ]
  },
  {
   "cell_type": "markdown",
   "metadata": {
    "id": "QtJT0kyznjmo"
   },
   "source": [
    "#Setup Kaggle API in Colab"
   ]
  },
  {
   "cell_type": "markdown",
   "metadata": {
    "id": "N6FjdKp0bl-k"
   },
   "source": [
    "In this step, I set up access to Kaggle from within Colab.  \n",
    "By installing the Kaggle CLI and uploading my `kaggle.json` API key, I enable direct downloads of public datasets (here, health insurance claims data) into the notebook for analysis."
   ]
  },
  {
   "cell_type": "code",
   "execution_count": 1,
   "metadata": {},
   "outputs": [
    {
     "data": {
      "text/html": [
       "\n",
       "     <input type=\"file\" id=\"files-ac8ee7c1-a53f-4c3c-9c40-02d100d7dbbb\" name=\"files[]\" multiple disabled\n",
       "        style=\"border:none\" />\n",
       "     <output id=\"result-ac8ee7c1-a53f-4c3c-9c40-02d100d7dbbb\">\n",
       "      Upload widget is only available when the cell has been executed in the\n",
       "      current browser session. Please rerun this cell to enable.\n",
       "      </output>\n",
       "      <script>// Copyright 2017 Google LLC\n",
       "//\n",
       "// Licensed under the Apache License, Version 2.0 (the \"License\");\n",
       "// you may not use this file except in compliance with the License.\n",
       "// You may obtain a copy of the License at\n",
       "//\n",
       "//      http://www.apache.org/licenses/LICENSE-2.0\n",
       "//\n",
       "// Unless required by applicable law or agreed to in writing, software\n",
       "// distributed under the License is distributed on an \"AS IS\" BASIS,\n",
       "// WITHOUT WARRANTIES OR CONDITIONS OF ANY KIND, either express or implied.\n",
       "// See the License for the specific language governing permissions and\n",
       "// limitations under the License.\n",
       "\n",
       "/**\n",
       " * @fileoverview Helpers for google.colab Python module.\n",
       " */\n",
       "(function(scope) {\n",
       "function span(text, styleAttributes = {}) {\n",
       "  const element = document.createElement('span');\n",
       "  element.textContent = text;\n",
       "  for (const key of Object.keys(styleAttributes)) {\n",
       "    element.style[key] = styleAttributes[key];\n",
       "  }\n",
       "  return element;\n",
       "}\n",
       "\n",
       "// Max number of bytes which will be uploaded at a time.\n",
       "const MAX_PAYLOAD_SIZE = 100 * 1024;\n",
       "\n",
       "function _uploadFiles(inputId, outputId) {\n",
       "  const steps = uploadFilesStep(inputId, outputId);\n",
       "  const outputElement = document.getElementById(outputId);\n",
       "  // Cache steps on the outputElement to make it available for the next call\n",
       "  // to uploadFilesContinue from Python.\n",
       "  outputElement.steps = steps;\n",
       "\n",
       "  return _uploadFilesContinue(outputId);\n",
       "}\n",
       "\n",
       "// This is roughly an async generator (not supported in the browser yet),\n",
       "// where there are multiple asynchronous steps and the Python side is going\n",
       "// to poll for completion of each step.\n",
       "// This uses a Promise to block the python side on completion of each step,\n",
       "// then passes the result of the previous step as the input to the next step.\n",
       "function _uploadFilesContinue(outputId) {\n",
       "  const outputElement = document.getElementById(outputId);\n",
       "  const steps = outputElement.steps;\n",
       "\n",
       "  const next = steps.next(outputElement.lastPromiseValue);\n",
       "  return Promise.resolve(next.value.promise).then((value) => {\n",
       "    // Cache the last promise value to make it available to the next\n",
       "    // step of the generator.\n",
       "    outputElement.lastPromiseValue = value;\n",
       "    return next.value.response;\n",
       "  });\n",
       "}\n",
       "\n",
       "/**\n",
       " * Generator function which is called between each async step of the upload\n",
       " * process.\n",
       " * @param {string} inputId Element ID of the input file picker element.\n",
       " * @param {string} outputId Element ID of the output display.\n",
       " * @return {!Iterable<!Object>} Iterable of next steps.\n",
       " */\n",
       "function* uploadFilesStep(inputId, outputId) {\n",
       "  const inputElement = document.getElementById(inputId);\n",
       "  inputElement.disabled = false;\n",
       "\n",
       "  const outputElement = document.getElementById(outputId);\n",
       "  outputElement.innerHTML = '';\n",
       "\n",
       "  const pickedPromise = new Promise((resolve) => {\n",
       "    inputElement.addEventListener('change', (e) => {\n",
       "      resolve(e.target.files);\n",
       "    });\n",
       "  });\n",
       "\n",
       "  const cancel = document.createElement('button');\n",
       "  inputElement.parentElement.appendChild(cancel);\n",
       "  cancel.textContent = 'Cancel upload';\n",
       "  const cancelPromise = new Promise((resolve) => {\n",
       "    cancel.onclick = () => {\n",
       "      resolve(null);\n",
       "    };\n",
       "  });\n",
       "\n",
       "  // Wait for the user to pick the files.\n",
       "  const files = yield {\n",
       "    promise: Promise.race([pickedPromise, cancelPromise]),\n",
       "    response: {\n",
       "      action: 'starting',\n",
       "    }\n",
       "  };\n",
       "\n",
       "  cancel.remove();\n",
       "\n",
       "  // Disable the input element since further picks are not allowed.\n",
       "  inputElement.disabled = true;\n",
       "\n",
       "  if (!files) {\n",
       "    return {\n",
       "      response: {\n",
       "        action: 'complete',\n",
       "      }\n",
       "    };\n",
       "  }\n",
       "\n",
       "  for (const file of files) {\n",
       "    const li = document.createElement('li');\n",
       "    li.append(span(file.name, {fontWeight: 'bold'}));\n",
       "    li.append(span(\n",
       "        `(${file.type || 'n/a'}) - ${file.size} bytes, ` +\n",
       "        `last modified: ${\n",
       "            file.lastModifiedDate ? file.lastModifiedDate.toLocaleDateString() :\n",
       "                                    'n/a'} - `));\n",
       "    const percent = span('0% done');\n",
       "    li.appendChild(percent);\n",
       "\n",
       "    outputElement.appendChild(li);\n",
       "\n",
       "    const fileDataPromise = new Promise((resolve) => {\n",
       "      const reader = new FileReader();\n",
       "      reader.onload = (e) => {\n",
       "        resolve(e.target.result);\n",
       "      };\n",
       "      reader.readAsArrayBuffer(file);\n",
       "    });\n",
       "    // Wait for the data to be ready.\n",
       "    let fileData = yield {\n",
       "      promise: fileDataPromise,\n",
       "      response: {\n",
       "        action: 'continue',\n",
       "      }\n",
       "    };\n",
       "\n",
       "    // Use a chunked sending to avoid message size limits. See b/62115660.\n",
       "    let position = 0;\n",
       "    do {\n",
       "      const length = Math.min(fileData.byteLength - position, MAX_PAYLOAD_SIZE);\n",
       "      const chunk = new Uint8Array(fileData, position, length);\n",
       "      position += length;\n",
       "\n",
       "      const base64 = btoa(String.fromCharCode.apply(null, chunk));\n",
       "      yield {\n",
       "        response: {\n",
       "          action: 'append',\n",
       "          file: file.name,\n",
       "          data: base64,\n",
       "        },\n",
       "      };\n",
       "\n",
       "      let percentDone = fileData.byteLength === 0 ?\n",
       "          100 :\n",
       "          Math.round((position / fileData.byteLength) * 100);\n",
       "      percent.textContent = `${percentDone}% done`;\n",
       "\n",
       "    } while (position < fileData.byteLength);\n",
       "  }\n",
       "\n",
       "  // All done.\n",
       "  yield {\n",
       "    response: {\n",
       "      action: 'complete',\n",
       "    }\n",
       "  };\n",
       "}\n",
       "\n",
       "scope.google = scope.google || {};\n",
       "scope.google.colab = scope.google.colab || {};\n",
       "scope.google.colab._files = {\n",
       "  _uploadFiles,\n",
       "  _uploadFilesContinue,\n",
       "};\n",
       "})(self);\n",
       "</script> "
      ],
      "text/plain": [
       "<IPython.core.display.HTML object>"
      ]
     },
     "metadata": {},
     "output_type": "display_data"
    },
    {
     "name": "stdout",
     "output_type": "stream",
     "text": [
      "Saving kaggle.json to kaggle.json\n"
     ]
    }
   ],
   "source": [
    "# Install Kaggle CLI\n",
    "!pip install kaggle --quiet\n",
    "\n",
    "# Make Kaggle directory\n",
    "!mkdir -p ~/.kaggle\n",
    "\n",
    "# Upload kaggle.json (your API token)\n",
    "from google.colab import files\n",
    "files.upload()  # Select kaggle.json from your computer\n",
    "\n",
    "# Move kaggle.json to correct location and set permissions\n",
    "!mv kaggle.json ~/.kaggle/\n",
    "!chmod 600 ~/.kaggle/kaggle.json\n"
   ]
  },
  {
   "cell_type": "markdown",
   "metadata": {
    "id": "AxXLrsuIn3e-"
   },
   "source": [
    "#Download Dataset"
   ]
  },
  {
   "cell_type": "markdown",
   "metadata": {
    "id": "fwlmsXxSb1cj"
   },
   "source": [
    "Here I download the **Enhanced Health Insurance Claims Dataset** directly from Kaggle using the API key.  \n",
    "This dataset contains synthetic but realistic insurance claim records. After downloading, I unzip the files into a local data folder for further processing.\n"
   ]
  },
  {
   "cell_type": "code",
   "execution_count": 2,
   "metadata": {},
   "outputs": [
    {
     "name": "stdout",
     "output_type": "stream",
     "text": [
      "Dataset URL: https://www.kaggle.com/datasets/leandrenash/enhanced-health-insurance-claims-dataset\n",
      "License(s): CC0-1.0\n",
      "Downloading enhanced-health-insurance-claims-dataset.zip to /content\n",
      "  0% 0.00/464k [00:00<?, ?B/s]\n",
      "100% 464k/464k [00:00<00:00, 679MB/s]\n",
      "Archive:  enhanced-health-insurance-claims-dataset.zip\n",
      "  inflating: data/enhanced_health_insurance_claims.csv  \n"
     ]
    }
   ],
   "source": [
    "# Download Enhanced Health Insurance Claims Dataset\n",
    "!kaggle datasets download -d leandrenash/enhanced-health-insurance-claims-dataset\n",
    "\n",
    "# Unzip\n",
    "!unzip enhanced-health-insurance-claims-dataset.zip -d data\n"
   ]
  },
  {
   "cell_type": "markdown",
   "metadata": {
    "id": "ilNhJTKNn9_o"
   },
   "source": [
    "#Load and Inspect Data"
   ]
  },
  {
   "cell_type": "markdown",
   "metadata": {
    "id": "Kuj3m-bwb-cq"
   },
   "source": [
    "I load the claims dataset into a Pandas DataFrame to begin exploring it.  \n",
    "The `shape` command shows the number of rows and columns, while `head()` previews the first few records so I can confirm the data loaded correctly.\n"
   ]
  },
  {
   "cell_type": "code",
   "execution_count": 3,
   "metadata": {},
   "outputs": [
    {
     "name": "stdout",
     "output_type": "stream",
     "text": [
      "Shape: (4500, 17)\n"
     ]
    },
    {
     "data": {
      "application/vnd.google.colaboratory.intrinsic+json": {
       "summary": "{\n  \"name\": \"df\",\n  \"rows\": 4500,\n  \"fields\": [\n    {\n      \"column\": \"ClaimID\",\n      \"properties\": {\n        \"dtype\": \"string\",\n        \"num_unique_values\": 4500,\n        \"samples\": [\n          \"dace462f-20f9-435d-bb95-82b197091f88\",\n          \"7adc58b7-e5bd-4fc9-a30a-08d16ad995b3\",\n          \"41a03dee-d155-40c7-9d00-c917c242969c\"\n        ],\n        \"semantic_type\": \"\",\n        \"description\": \"\"\n      }\n    },\n    {\n      \"column\": \"PatientID\",\n      \"properties\": {\n        \"dtype\": \"string\",\n        \"num_unique_values\": 4500,\n        \"samples\": [\n          \"aa6862b1-a86d-4911-8572-da3937b4924d\",\n          \"0ee4e0e1-32f9-4094-8c9e-7edfbd000f2e\",\n          \"d5ca988c-896d-4613-9ae5-88e986c301f7\"\n        ],\n        \"semantic_type\": \"\",\n        \"description\": \"\"\n      }\n    },\n    {\n      \"column\": \"ProviderID\",\n      \"properties\": {\n        \"dtype\": \"string\",\n        \"num_unique_values\": 4500,\n        \"samples\": [\n          \"9d1009b1-a808-4fd1-a7ae-3b9df6a8d686\",\n          \"de2f5f01-acd9-49f2-94d0-1892f53eff12\",\n          \"bf3145bb-4af8-4e6a-8b04-b412516a0312\"\n        ],\n        \"semantic_type\": \"\",\n        \"description\": \"\"\n      }\n    },\n    {\n      \"column\": \"ClaimAmount\",\n      \"properties\": {\n        \"dtype\": \"number\",\n        \"std\": 2866.291065751816,\n        \"min\": 100.12,\n        \"max\": 9997.2,\n        \"num_unique_values\": 4490,\n        \"samples\": [\n          7640.03,\n          9978.43,\n          7004.46\n        ],\n        \"semantic_type\": \"\",\n        \"description\": \"\"\n      }\n    },\n    {\n      \"column\": \"ClaimDate\",\n      \"properties\": {\n        \"dtype\": \"object\",\n        \"num_unique_values\": 731,\n        \"samples\": [\n          \"2024-03-30\",\n          \"2024-03-11\",\n          \"2023-10-17\"\n        ],\n        \"semantic_type\": \"\",\n        \"description\": \"\"\n      }\n    },\n    {\n      \"column\": \"DiagnosisCode\",\n      \"properties\": {\n        \"dtype\": \"string\",\n        \"num_unique_values\": 4495,\n        \"samples\": [\n          \"aX543\",\n          \"MX271\",\n          \"Yx309\"\n        ],\n        \"semantic_type\": \"\",\n        \"description\": \"\"\n      }\n    },\n    {\n      \"column\": \"ProcedureCode\",\n      \"properties\": {\n        \"dtype\": \"string\",\n        \"num_unique_values\": 4495,\n        \"samples\": [\n          \"tq275\",\n          \"ME633\",\n          \"jL713\"\n        ],\n        \"semantic_type\": \"\",\n        \"description\": \"\"\n      }\n    },\n    {\n      \"column\": \"PatientAge\",\n      \"properties\": {\n        \"dtype\": \"number\",\n        \"std\": 28,\n        \"min\": 0,\n        \"max\": 99,\n        \"num_unique_values\": 100,\n        \"samples\": [\n          6,\n          51,\n          55\n        ],\n        \"semantic_type\": \"\",\n        \"description\": \"\"\n      }\n    },\n    {\n      \"column\": \"PatientGender\",\n      \"properties\": {\n        \"dtype\": \"category\",\n        \"num_unique_values\": 2,\n        \"samples\": [\n          \"F\",\n          \"M\"\n        ],\n        \"semantic_type\": \"\",\n        \"description\": \"\"\n      }\n    },\n    {\n      \"column\": \"ProviderSpecialty\",\n      \"properties\": {\n        \"dtype\": \"category\",\n        \"num_unique_values\": 5,\n        \"samples\": [\n          \"Pediatrics\",\n          \"Orthopedics\"\n        ],\n        \"semantic_type\": \"\",\n        \"description\": \"\"\n      }\n    },\n    {\n      \"column\": \"ClaimStatus\",\n      \"properties\": {\n        \"dtype\": \"category\",\n        \"num_unique_values\": 3,\n        \"samples\": [\n          \"Pending\",\n          \"Approved\"\n        ],\n        \"semantic_type\": \"\",\n        \"description\": \"\"\n      }\n    },\n    {\n      \"column\": \"PatientIncome\",\n      \"properties\": {\n        \"dtype\": \"number\",\n        \"std\": 37085.90887801403,\n        \"min\": 20006.87,\n        \"max\": 149957.52,\n        \"num_unique_values\": 4500,\n        \"samples\": [\n          78575.72,\n          72821.99\n        ],\n        \"semantic_type\": \"\",\n        \"description\": \"\"\n      }\n    },\n    {\n      \"column\": \"PatientMaritalStatus\",\n      \"properties\": {\n        \"dtype\": \"category\",\n        \"num_unique_values\": 4,\n        \"samples\": [\n          \"Single\",\n          \"Widowed\"\n        ],\n        \"semantic_type\": \"\",\n        \"description\": \"\"\n      }\n    },\n    {\n      \"column\": \"PatientEmploymentStatus\",\n      \"properties\": {\n        \"dtype\": \"category\",\n        \"num_unique_values\": 4,\n        \"samples\": [\n          \"Student\",\n          \"Unemployed\"\n        ],\n        \"semantic_type\": \"\",\n        \"description\": \"\"\n      }\n    },\n    {\n      \"column\": \"ProviderLocation\",\n      \"properties\": {\n        \"dtype\": \"string\",\n        \"num_unique_values\": 3876,\n        \"samples\": [\n          \"Lake Kristina\",\n          \"West Emily\"\n        ],\n        \"semantic_type\": \"\",\n        \"description\": \"\"\n      }\n    },\n    {\n      \"column\": \"ClaimType\",\n      \"properties\": {\n        \"dtype\": \"category\",\n        \"num_unique_values\": 4,\n        \"samples\": [\n          \"Emergency\",\n          \"Outpatient\"\n        ],\n        \"semantic_type\": \"\",\n        \"description\": \"\"\n      }\n    },\n    {\n      \"column\": \"ClaimSubmissionMethod\",\n      \"properties\": {\n        \"dtype\": \"category\",\n        \"num_unique_values\": 3,\n        \"samples\": [\n          \"Paper\",\n          \"Online\"\n        ],\n        \"semantic_type\": \"\",\n        \"description\": \"\"\n      }\n    }\n  ]\n}",
       "type": "dataframe",
       "variable_name": "df"
      },
      "text/html": [
       "\n",
       "  <div id=\"df-77129886-0249-476a-8d17-ce10aa3629c7\" class=\"colab-df-container\">\n",
       "    <div>\n",
       "<style scoped>\n",
       "    .dataframe tbody tr th:only-of-type {\n",
       "        vertical-align: middle;\n",
       "    }\n",
       "\n",
       "    .dataframe tbody tr th {\n",
       "        vertical-align: top;\n",
       "    }\n",
       "\n",
       "    .dataframe thead th {\n",
       "        text-align: right;\n",
       "    }\n",
       "</style>\n",
       "<table border=\"1\" class=\"dataframe\">\n",
       "  <thead>\n",
       "    <tr style=\"text-align: right;\">\n",
       "      <th></th>\n",
       "      <th>ClaimID</th>\n",
       "      <th>PatientID</th>\n",
       "      <th>ProviderID</th>\n",
       "      <th>ClaimAmount</th>\n",
       "      <th>ClaimDate</th>\n",
       "      <th>DiagnosisCode</th>\n",
       "      <th>ProcedureCode</th>\n",
       "      <th>PatientAge</th>\n",
       "      <th>PatientGender</th>\n",
       "      <th>ProviderSpecialty</th>\n",
       "      <th>ClaimStatus</th>\n",
       "      <th>PatientIncome</th>\n",
       "      <th>PatientMaritalStatus</th>\n",
       "      <th>PatientEmploymentStatus</th>\n",
       "      <th>ProviderLocation</th>\n",
       "      <th>ClaimType</th>\n",
       "      <th>ClaimSubmissionMethod</th>\n",
       "    </tr>\n",
       "  </thead>\n",
       "  <tbody>\n",
       "    <tr>\n",
       "      <th>0</th>\n",
       "      <td>10944daf-f7d5-4e1d-8216-72ffa609fe41</td>\n",
       "      <td>8552381d-7960-4f64-b190-b20b8ada00a1</td>\n",
       "      <td>4a4cb19c-4863-41cf-84b0-c2b21aace988</td>\n",
       "      <td>3807.95</td>\n",
       "      <td>2024-06-07</td>\n",
       "      <td>yy006</td>\n",
       "      <td>hd662</td>\n",
       "      <td>16</td>\n",
       "      <td>M</td>\n",
       "      <td>Cardiology</td>\n",
       "      <td>Pending</td>\n",
       "      <td>90279.43</td>\n",
       "      <td>Married</td>\n",
       "      <td>Retired</td>\n",
       "      <td>Jameshaven</td>\n",
       "      <td>Routine</td>\n",
       "      <td>Paper</td>\n",
       "    </tr>\n",
       "    <tr>\n",
       "      <th>1</th>\n",
       "      <td>fcbebb25-fc24-4c0f-a966-749edcf83fb1</td>\n",
       "      <td>327f43ad-e3bd-4473-a9ed-46483a0a156f</td>\n",
       "      <td>422e02dd-c1fd-43dd-8af4-0c3523f997b1</td>\n",
       "      <td>9512.07</td>\n",
       "      <td>2023-05-30</td>\n",
       "      <td>tD052</td>\n",
       "      <td>mH831</td>\n",
       "      <td>27</td>\n",
       "      <td>M</td>\n",
       "      <td>Pediatrics</td>\n",
       "      <td>Approved</td>\n",
       "      <td>130448.02</td>\n",
       "      <td>Single</td>\n",
       "      <td>Student</td>\n",
       "      <td>Beltrantown</td>\n",
       "      <td>Routine</td>\n",
       "      <td>Online</td>\n",
       "    </tr>\n",
       "    <tr>\n",
       "      <th>2</th>\n",
       "      <td>9e9983e7-9ea7-45f5-84d8-ce49ccd8a4a1</td>\n",
       "      <td>6f3acdf7-73aa-4afa-9c2e-b25b27bdb5b0</td>\n",
       "      <td>f7733b3f-0980-47b5-a7a0-ee390869355b</td>\n",
       "      <td>7346.74</td>\n",
       "      <td>2022-09-27</td>\n",
       "      <td>zx832</td>\n",
       "      <td>dg637</td>\n",
       "      <td>40</td>\n",
       "      <td>F</td>\n",
       "      <td>Cardiology</td>\n",
       "      <td>Pending</td>\n",
       "      <td>82417.54</td>\n",
       "      <td>Divorced</td>\n",
       "      <td>Employed</td>\n",
       "      <td>West Charlesport</td>\n",
       "      <td>Emergency</td>\n",
       "      <td>Online</td>\n",
       "    </tr>\n",
       "    <tr>\n",
       "      <th>3</th>\n",
       "      <td>a06273ed-44bb-452b-bbad-8618de080494</td>\n",
       "      <td>5d58e183-701e-406c-a8c6-5b73cac5e912</td>\n",
       "      <td>f7a04581-de96-44ee-b773-8adac02baa59</td>\n",
       "      <td>6026.72</td>\n",
       "      <td>2023-06-25</td>\n",
       "      <td>kr421</td>\n",
       "      <td>kG326</td>\n",
       "      <td>65</td>\n",
       "      <td>M</td>\n",
       "      <td>Neurology</td>\n",
       "      <td>Pending</td>\n",
       "      <td>68516.96</td>\n",
       "      <td>Widowed</td>\n",
       "      <td>Student</td>\n",
       "      <td>West Aprilhaven</td>\n",
       "      <td>Routine</td>\n",
       "      <td>Phone</td>\n",
       "    </tr>\n",
       "    <tr>\n",
       "      <th>4</th>\n",
       "      <td>f702a717-254b-4cff-a0c7-8395db2f6616</td>\n",
       "      <td>8a8ebdf6-3af0-4f14-82f3-37b937c3d270</td>\n",
       "      <td>b80b9e77-97f0-47d7-b561-19f9658a7bdf</td>\n",
       "      <td>1644.58</td>\n",
       "      <td>2023-07-24</td>\n",
       "      <td>LZ261</td>\n",
       "      <td>cx805</td>\n",
       "      <td>24</td>\n",
       "      <td>M</td>\n",
       "      <td>General Practice</td>\n",
       "      <td>Pending</td>\n",
       "      <td>84122.17</td>\n",
       "      <td>Married</td>\n",
       "      <td>Student</td>\n",
       "      <td>Lake Michele</td>\n",
       "      <td>Inpatient</td>\n",
       "      <td>Phone</td>\n",
       "    </tr>\n",
       "  </tbody>\n",
       "</table>\n",
       "</div>\n",
       "    <div class=\"colab-df-buttons\">\n",
       "\n",
       "  <div class=\"colab-df-container\">\n",
       "    <button class=\"colab-df-convert\" onclick=\"convertToInteractive('df-77129886-0249-476a-8d17-ce10aa3629c7')\"\n",
       "            title=\"Convert this dataframe to an interactive table.\"\n",
       "            style=\"display:none;\">\n",
       "\n",
       "  <svg xmlns=\"http://www.w3.org/2000/svg\" height=\"24px\" viewBox=\"0 -960 960 960\">\n",
       "    <path d=\"M120-120v-720h720v720H120Zm60-500h600v-160H180v160Zm220 220h160v-160H400v160Zm0 220h160v-160H400v160ZM180-400h160v-160H180v160Zm440 0h160v-160H620v160ZM180-180h160v-160H180v160Zm440 0h160v-160H620v160Z\"/>\n",
       "  </svg>\n",
       "    </button>\n",
       "\n",
       "  <style>\n",
       "    .colab-df-container {\n",
       "      display:flex;\n",
       "      gap: 12px;\n",
       "    }\n",
       "\n",
       "    .colab-df-convert {\n",
       "      background-color: #E8F0FE;\n",
       "      border: none;\n",
       "      border-radius: 50%;\n",
       "      cursor: pointer;\n",
       "      display: none;\n",
       "      fill: #1967D2;\n",
       "      height: 32px;\n",
       "      padding: 0 0 0 0;\n",
       "      width: 32px;\n",
       "    }\n",
       "\n",
       "    .colab-df-convert:hover {\n",
       "      background-color: #E2EBFA;\n",
       "      box-shadow: 0px 1px 2px rgba(60, 64, 67, 0.3), 0px 1px 3px 1px rgba(60, 64, 67, 0.15);\n",
       "      fill: #174EA6;\n",
       "    }\n",
       "\n",
       "    .colab-df-buttons div {\n",
       "      margin-bottom: 4px;\n",
       "    }\n",
       "\n",
       "    [theme=dark] .colab-df-convert {\n",
       "      background-color: #3B4455;\n",
       "      fill: #D2E3FC;\n",
       "    }\n",
       "\n",
       "    [theme=dark] .colab-df-convert:hover {\n",
       "      background-color: #434B5C;\n",
       "      box-shadow: 0px 1px 3px 1px rgba(0, 0, 0, 0.15);\n",
       "      filter: drop-shadow(0px 1px 2px rgba(0, 0, 0, 0.3));\n",
       "      fill: #FFFFFF;\n",
       "    }\n",
       "  </style>\n",
       "\n",
       "    <script>\n",
       "      const buttonEl =\n",
       "        document.querySelector('#df-77129886-0249-476a-8d17-ce10aa3629c7 button.colab-df-convert');\n",
       "      buttonEl.style.display =\n",
       "        google.colab.kernel.accessAllowed ? 'block' : 'none';\n",
       "\n",
       "      async function convertToInteractive(key) {\n",
       "        const element = document.querySelector('#df-77129886-0249-476a-8d17-ce10aa3629c7');\n",
       "        const dataTable =\n",
       "          await google.colab.kernel.invokeFunction('convertToInteractive',\n",
       "                                                    [key], {});\n",
       "        if (!dataTable) return;\n",
       "\n",
       "        const docLinkHtml = 'Like what you see? Visit the ' +\n",
       "          '<a target=\"_blank\" href=https://colab.research.google.com/notebooks/data_table.ipynb>data table notebook</a>'\n",
       "          + ' to learn more about interactive tables.';\n",
       "        element.innerHTML = '';\n",
       "        dataTable['output_type'] = 'display_data';\n",
       "        await google.colab.output.renderOutput(dataTable, element);\n",
       "        const docLink = document.createElement('div');\n",
       "        docLink.innerHTML = docLinkHtml;\n",
       "        element.appendChild(docLink);\n",
       "      }\n",
       "    </script>\n",
       "  </div>\n",
       "\n",
       "\n",
       "    <div id=\"df-57f84187-7734-4962-8ba1-b6970aa303ec\">\n",
       "      <button class=\"colab-df-quickchart\" onclick=\"quickchart('df-57f84187-7734-4962-8ba1-b6970aa303ec')\"\n",
       "                title=\"Suggest charts\"\n",
       "                style=\"display:none;\">\n",
       "\n",
       "<svg xmlns=\"http://www.w3.org/2000/svg\" height=\"24px\"viewBox=\"0 0 24 24\"\n",
       "     width=\"24px\">\n",
       "    <g>\n",
       "        <path d=\"M19 3H5c-1.1 0-2 .9-2 2v14c0 1.1.9 2 2 2h14c1.1 0 2-.9 2-2V5c0-1.1-.9-2-2-2zM9 17H7v-7h2v7zm4 0h-2V7h2v10zm4 0h-2v-4h2v4z\"/>\n",
       "    </g>\n",
       "</svg>\n",
       "      </button>\n",
       "\n",
       "<style>\n",
       "  .colab-df-quickchart {\n",
       "      --bg-color: #E8F0FE;\n",
       "      --fill-color: #1967D2;\n",
       "      --hover-bg-color: #E2EBFA;\n",
       "      --hover-fill-color: #174EA6;\n",
       "      --disabled-fill-color: #AAA;\n",
       "      --disabled-bg-color: #DDD;\n",
       "  }\n",
       "\n",
       "  [theme=dark] .colab-df-quickchart {\n",
       "      --bg-color: #3B4455;\n",
       "      --fill-color: #D2E3FC;\n",
       "      --hover-bg-color: #434B5C;\n",
       "      --hover-fill-color: #FFFFFF;\n",
       "      --disabled-bg-color: #3B4455;\n",
       "      --disabled-fill-color: #666;\n",
       "  }\n",
       "\n",
       "  .colab-df-quickchart {\n",
       "    background-color: var(--bg-color);\n",
       "    border: none;\n",
       "    border-radius: 50%;\n",
       "    cursor: pointer;\n",
       "    display: none;\n",
       "    fill: var(--fill-color);\n",
       "    height: 32px;\n",
       "    padding: 0;\n",
       "    width: 32px;\n",
       "  }\n",
       "\n",
       "  .colab-df-quickchart:hover {\n",
       "    background-color: var(--hover-bg-color);\n",
       "    box-shadow: 0 1px 2px rgba(60, 64, 67, 0.3), 0 1px 3px 1px rgba(60, 64, 67, 0.15);\n",
       "    fill: var(--button-hover-fill-color);\n",
       "  }\n",
       "\n",
       "  .colab-df-quickchart-complete:disabled,\n",
       "  .colab-df-quickchart-complete:disabled:hover {\n",
       "    background-color: var(--disabled-bg-color);\n",
       "    fill: var(--disabled-fill-color);\n",
       "    box-shadow: none;\n",
       "  }\n",
       "\n",
       "  .colab-df-spinner {\n",
       "    border: 2px solid var(--fill-color);\n",
       "    border-color: transparent;\n",
       "    border-bottom-color: var(--fill-color);\n",
       "    animation:\n",
       "      spin 1s steps(1) infinite;\n",
       "  }\n",
       "\n",
       "  @keyframes spin {\n",
       "    0% {\n",
       "      border-color: transparent;\n",
       "      border-bottom-color: var(--fill-color);\n",
       "      border-left-color: var(--fill-color);\n",
       "    }\n",
       "    20% {\n",
       "      border-color: transparent;\n",
       "      border-left-color: var(--fill-color);\n",
       "      border-top-color: var(--fill-color);\n",
       "    }\n",
       "    30% {\n",
       "      border-color: transparent;\n",
       "      border-left-color: var(--fill-color);\n",
       "      border-top-color: var(--fill-color);\n",
       "      border-right-color: var(--fill-color);\n",
       "    }\n",
       "    40% {\n",
       "      border-color: transparent;\n",
       "      border-right-color: var(--fill-color);\n",
       "      border-top-color: var(--fill-color);\n",
       "    }\n",
       "    60% {\n",
       "      border-color: transparent;\n",
       "      border-right-color: var(--fill-color);\n",
       "    }\n",
       "    80% {\n",
       "      border-color: transparent;\n",
       "      border-right-color: var(--fill-color);\n",
       "      border-bottom-color: var(--fill-color);\n",
       "    }\n",
       "    90% {\n",
       "      border-color: transparent;\n",
       "      border-bottom-color: var(--fill-color);\n",
       "    }\n",
       "  }\n",
       "</style>\n",
       "\n",
       "      <script>\n",
       "        async function quickchart(key) {\n",
       "          const quickchartButtonEl =\n",
       "            document.querySelector('#' + key + ' button');\n",
       "          quickchartButtonEl.disabled = true;  // To prevent multiple clicks.\n",
       "          quickchartButtonEl.classList.add('colab-df-spinner');\n",
       "          try {\n",
       "            const charts = await google.colab.kernel.invokeFunction(\n",
       "                'suggestCharts', [key], {});\n",
       "          } catch (error) {\n",
       "            console.error('Error during call to suggestCharts:', error);\n",
       "          }\n",
       "          quickchartButtonEl.classList.remove('colab-df-spinner');\n",
       "          quickchartButtonEl.classList.add('colab-df-quickchart-complete');\n",
       "        }\n",
       "        (() => {\n",
       "          let quickchartButtonEl =\n",
       "            document.querySelector('#df-57f84187-7734-4962-8ba1-b6970aa303ec button');\n",
       "          quickchartButtonEl.style.display =\n",
       "            google.colab.kernel.accessAllowed ? 'block' : 'none';\n",
       "        })();\n",
       "      </script>\n",
       "    </div>\n",
       "\n",
       "    </div>\n",
       "  </div>\n"
      ],
      "text/plain": [
       "                                ClaimID                             PatientID  \\\n",
       "0  10944daf-f7d5-4e1d-8216-72ffa609fe41  8552381d-7960-4f64-b190-b20b8ada00a1   \n",
       "1  fcbebb25-fc24-4c0f-a966-749edcf83fb1  327f43ad-e3bd-4473-a9ed-46483a0a156f   \n",
       "2  9e9983e7-9ea7-45f5-84d8-ce49ccd8a4a1  6f3acdf7-73aa-4afa-9c2e-b25b27bdb5b0   \n",
       "3  a06273ed-44bb-452b-bbad-8618de080494  5d58e183-701e-406c-a8c6-5b73cac5e912   \n",
       "4  f702a717-254b-4cff-a0c7-8395db2f6616  8a8ebdf6-3af0-4f14-82f3-37b937c3d270   \n",
       "\n",
       "                             ProviderID  ClaimAmount   ClaimDate  \\\n",
       "0  4a4cb19c-4863-41cf-84b0-c2b21aace988      3807.95  2024-06-07   \n",
       "1  422e02dd-c1fd-43dd-8af4-0c3523f997b1      9512.07  2023-05-30   \n",
       "2  f7733b3f-0980-47b5-a7a0-ee390869355b      7346.74  2022-09-27   \n",
       "3  f7a04581-de96-44ee-b773-8adac02baa59      6026.72  2023-06-25   \n",
       "4  b80b9e77-97f0-47d7-b561-19f9658a7bdf      1644.58  2023-07-24   \n",
       "\n",
       "  DiagnosisCode ProcedureCode  PatientAge PatientGender ProviderSpecialty  \\\n",
       "0         yy006         hd662          16             M        Cardiology   \n",
       "1         tD052         mH831          27             M        Pediatrics   \n",
       "2         zx832         dg637          40             F        Cardiology   \n",
       "3         kr421         kG326          65             M         Neurology   \n",
       "4         LZ261         cx805          24             M  General Practice   \n",
       "\n",
       "  ClaimStatus  PatientIncome PatientMaritalStatus PatientEmploymentStatus  \\\n",
       "0     Pending       90279.43              Married                 Retired   \n",
       "1    Approved      130448.02               Single                 Student   \n",
       "2     Pending       82417.54             Divorced                Employed   \n",
       "3     Pending       68516.96              Widowed                 Student   \n",
       "4     Pending       84122.17              Married                 Student   \n",
       "\n",
       "   ProviderLocation  ClaimType ClaimSubmissionMethod  \n",
       "0        Jameshaven    Routine                 Paper  \n",
       "1       Beltrantown    Routine                Online  \n",
       "2  West Charlesport  Emergency                Online  \n",
       "3   West Aprilhaven    Routine                 Phone  \n",
       "4      Lake Michele  Inpatient                 Phone  "
      ]
     },
     "execution_count": 3,
     "metadata": {},
     "output_type": "execute_result"
    }
   ],
   "source": [
    "import pandas as pd\n",
    "\n",
    "# Load dataset\n",
    "df = pd.read_csv(\"data/enhanced_health_insurance_claims.csv\")\n",
    "\n",
    "print(\"Shape:\", df.shape)\n",
    "df.head()\n"
   ]
  },
  {
   "cell_type": "code",
   "execution_count": 4,
   "metadata": {},
   "outputs": [
    {
     "name": "stdout",
     "output_type": "stream",
     "text": [
      "['ClaimID', 'PatientID', 'ProviderID', 'ClaimAmount', 'ClaimDate', 'DiagnosisCode', 'ProcedureCode', 'PatientAge', 'PatientGender', 'ProviderSpecialty', 'ClaimStatus', 'PatientIncome', 'PatientMaritalStatus', 'PatientEmploymentStatus', 'ProviderLocation', 'ClaimType', 'ClaimSubmissionMethod']\n"
     ]
    }
   ],
   "source": [
    "# Inspect column names\n",
    "print(df.columns.tolist())\n"
   ]
  },
  {
   "cell_type": "markdown",
   "metadata": {
    "id": "fUI31ZEHoGc0"
   },
   "source": [
    "#Generate Text Column for Tokenization"
   ]
  },
  {
   "cell_type": "markdown",
   "metadata": {
    "id": "kddFIASDcI7O"
   },
   "source": [
    "Since the dataset mainly contains codes and categorical fields, I generate a synthetic **claim_text** column by combining procedure codes, provider specialty, and diagnosis codes into a readable sentence.  \n",
    "This step creates unstructured text that better simulates the kind of inputs used in Large Language Model (LLM)–based analysis.\n"
   ]
  },
  {
   "cell_type": "code",
   "execution_count": 5,
   "metadata": {},
   "outputs": [
    {
     "data": {
      "application/vnd.google.colaboratory.intrinsic+json": {
       "summary": "{\n  \"name\": \"df[[\\\"ClaimID\\\", \\\"claim_text\\\"]]\",\n  \"rows\": 5,\n  \"fields\": [\n    {\n      \"column\": \"ClaimID\",\n      \"properties\": {\n        \"dtype\": \"string\",\n        \"num_unique_values\": 5,\n        \"samples\": [\n          \"fcbebb25-fc24-4c0f-a966-749edcf83fb1\",\n          \"f702a717-254b-4cff-a0c7-8395db2f6616\",\n          \"9e9983e7-9ea7-45f5-84d8-ce49ccd8a4a1\"\n        ],\n        \"semantic_type\": \"\",\n        \"description\": \"\"\n      }\n    },\n    {\n      \"column\": \"claim_text\",\n      \"properties\": {\n        \"dtype\": \"string\",\n        \"num_unique_values\": 5,\n        \"samples\": [\n          \"Procedure mH831 performed by Pediatrics for diagnosis tD052\",\n          \"Procedure cx805 performed by General Practice for diagnosis LZ261\",\n          \"Procedure dg637 performed by Cardiology for diagnosis zx832\"\n        ],\n        \"semantic_type\": \"\",\n        \"description\": \"\"\n      }\n    }\n  ]\n}",
       "type": "dataframe"
      },
      "text/html": [
       "\n",
       "  <div id=\"df-3677f064-425e-4e67-b13d-7b3d3a7f1508\" class=\"colab-df-container\">\n",
       "    <div>\n",
       "<style scoped>\n",
       "    .dataframe tbody tr th:only-of-type {\n",
       "        vertical-align: middle;\n",
       "    }\n",
       "\n",
       "    .dataframe tbody tr th {\n",
       "        vertical-align: top;\n",
       "    }\n",
       "\n",
       "    .dataframe thead th {\n",
       "        text-align: right;\n",
       "    }\n",
       "</style>\n",
       "<table border=\"1\" class=\"dataframe\">\n",
       "  <thead>\n",
       "    <tr style=\"text-align: right;\">\n",
       "      <th></th>\n",
       "      <th>ClaimID</th>\n",
       "      <th>claim_text</th>\n",
       "    </tr>\n",
       "  </thead>\n",
       "  <tbody>\n",
       "    <tr>\n",
       "      <th>0</th>\n",
       "      <td>10944daf-f7d5-4e1d-8216-72ffa609fe41</td>\n",
       "      <td>Procedure hd662 performed by Cardiology for di...</td>\n",
       "    </tr>\n",
       "    <tr>\n",
       "      <th>1</th>\n",
       "      <td>fcbebb25-fc24-4c0f-a966-749edcf83fb1</td>\n",
       "      <td>Procedure mH831 performed by Pediatrics for di...</td>\n",
       "    </tr>\n",
       "    <tr>\n",
       "      <th>2</th>\n",
       "      <td>9e9983e7-9ea7-45f5-84d8-ce49ccd8a4a1</td>\n",
       "      <td>Procedure dg637 performed by Cardiology for di...</td>\n",
       "    </tr>\n",
       "    <tr>\n",
       "      <th>3</th>\n",
       "      <td>a06273ed-44bb-452b-bbad-8618de080494</td>\n",
       "      <td>Procedure kG326 performed by Neurology for dia...</td>\n",
       "    </tr>\n",
       "    <tr>\n",
       "      <th>4</th>\n",
       "      <td>f702a717-254b-4cff-a0c7-8395db2f6616</td>\n",
       "      <td>Procedure cx805 performed by General Practice ...</td>\n",
       "    </tr>\n",
       "  </tbody>\n",
       "</table>\n",
       "</div>\n",
       "    <div class=\"colab-df-buttons\">\n",
       "\n",
       "  <div class=\"colab-df-container\">\n",
       "    <button class=\"colab-df-convert\" onclick=\"convertToInteractive('df-3677f064-425e-4e67-b13d-7b3d3a7f1508')\"\n",
       "            title=\"Convert this dataframe to an interactive table.\"\n",
       "            style=\"display:none;\">\n",
       "\n",
       "  <svg xmlns=\"http://www.w3.org/2000/svg\" height=\"24px\" viewBox=\"0 -960 960 960\">\n",
       "    <path d=\"M120-120v-720h720v720H120Zm60-500h600v-160H180v160Zm220 220h160v-160H400v160Zm0 220h160v-160H400v160ZM180-400h160v-160H180v160Zm440 0h160v-160H620v160ZM180-180h160v-160H180v160Zm440 0h160v-160H620v160Z\"/>\n",
       "  </svg>\n",
       "    </button>\n",
       "\n",
       "  <style>\n",
       "    .colab-df-container {\n",
       "      display:flex;\n",
       "      gap: 12px;\n",
       "    }\n",
       "\n",
       "    .colab-df-convert {\n",
       "      background-color: #E8F0FE;\n",
       "      border: none;\n",
       "      border-radius: 50%;\n",
       "      cursor: pointer;\n",
       "      display: none;\n",
       "      fill: #1967D2;\n",
       "      height: 32px;\n",
       "      padding: 0 0 0 0;\n",
       "      width: 32px;\n",
       "    }\n",
       "\n",
       "    .colab-df-convert:hover {\n",
       "      background-color: #E2EBFA;\n",
       "      box-shadow: 0px 1px 2px rgba(60, 64, 67, 0.3), 0px 1px 3px 1px rgba(60, 64, 67, 0.15);\n",
       "      fill: #174EA6;\n",
       "    }\n",
       "\n",
       "    .colab-df-buttons div {\n",
       "      margin-bottom: 4px;\n",
       "    }\n",
       "\n",
       "    [theme=dark] .colab-df-convert {\n",
       "      background-color: #3B4455;\n",
       "      fill: #D2E3FC;\n",
       "    }\n",
       "\n",
       "    [theme=dark] .colab-df-convert:hover {\n",
       "      background-color: #434B5C;\n",
       "      box-shadow: 0px 1px 3px 1px rgba(0, 0, 0, 0.15);\n",
       "      filter: drop-shadow(0px 1px 2px rgba(0, 0, 0, 0.3));\n",
       "      fill: #FFFFFF;\n",
       "    }\n",
       "  </style>\n",
       "\n",
       "    <script>\n",
       "      const buttonEl =\n",
       "        document.querySelector('#df-3677f064-425e-4e67-b13d-7b3d3a7f1508 button.colab-df-convert');\n",
       "      buttonEl.style.display =\n",
       "        google.colab.kernel.accessAllowed ? 'block' : 'none';\n",
       "\n",
       "      async function convertToInteractive(key) {\n",
       "        const element = document.querySelector('#df-3677f064-425e-4e67-b13d-7b3d3a7f1508');\n",
       "        const dataTable =\n",
       "          await google.colab.kernel.invokeFunction('convertToInteractive',\n",
       "                                                    [key], {});\n",
       "        if (!dataTable) return;\n",
       "\n",
       "        const docLinkHtml = 'Like what you see? Visit the ' +\n",
       "          '<a target=\"_blank\" href=https://colab.research.google.com/notebooks/data_table.ipynb>data table notebook</a>'\n",
       "          + ' to learn more about interactive tables.';\n",
       "        element.innerHTML = '';\n",
       "        dataTable['output_type'] = 'display_data';\n",
       "        await google.colab.output.renderOutput(dataTable, element);\n",
       "        const docLink = document.createElement('div');\n",
       "        docLink.innerHTML = docLinkHtml;\n",
       "        element.appendChild(docLink);\n",
       "      }\n",
       "    </script>\n",
       "  </div>\n",
       "\n",
       "\n",
       "    <div id=\"df-1c658141-c036-409f-bf37-cdb43833663c\">\n",
       "      <button class=\"colab-df-quickchart\" onclick=\"quickchart('df-1c658141-c036-409f-bf37-cdb43833663c')\"\n",
       "                title=\"Suggest charts\"\n",
       "                style=\"display:none;\">\n",
       "\n",
       "<svg xmlns=\"http://www.w3.org/2000/svg\" height=\"24px\"viewBox=\"0 0 24 24\"\n",
       "     width=\"24px\">\n",
       "    <g>\n",
       "        <path d=\"M19 3H5c-1.1 0-2 .9-2 2v14c0 1.1.9 2 2 2h14c1.1 0 2-.9 2-2V5c0-1.1-.9-2-2-2zM9 17H7v-7h2v7zm4 0h-2V7h2v10zm4 0h-2v-4h2v4z\"/>\n",
       "    </g>\n",
       "</svg>\n",
       "      </button>\n",
       "\n",
       "<style>\n",
       "  .colab-df-quickchart {\n",
       "      --bg-color: #E8F0FE;\n",
       "      --fill-color: #1967D2;\n",
       "      --hover-bg-color: #E2EBFA;\n",
       "      --hover-fill-color: #174EA6;\n",
       "      --disabled-fill-color: #AAA;\n",
       "      --disabled-bg-color: #DDD;\n",
       "  }\n",
       "\n",
       "  [theme=dark] .colab-df-quickchart {\n",
       "      --bg-color: #3B4455;\n",
       "      --fill-color: #D2E3FC;\n",
       "      --hover-bg-color: #434B5C;\n",
       "      --hover-fill-color: #FFFFFF;\n",
       "      --disabled-bg-color: #3B4455;\n",
       "      --disabled-fill-color: #666;\n",
       "  }\n",
       "\n",
       "  .colab-df-quickchart {\n",
       "    background-color: var(--bg-color);\n",
       "    border: none;\n",
       "    border-radius: 50%;\n",
       "    cursor: pointer;\n",
       "    display: none;\n",
       "    fill: var(--fill-color);\n",
       "    height: 32px;\n",
       "    padding: 0;\n",
       "    width: 32px;\n",
       "  }\n",
       "\n",
       "  .colab-df-quickchart:hover {\n",
       "    background-color: var(--hover-bg-color);\n",
       "    box-shadow: 0 1px 2px rgba(60, 64, 67, 0.3), 0 1px 3px 1px rgba(60, 64, 67, 0.15);\n",
       "    fill: var(--button-hover-fill-color);\n",
       "  }\n",
       "\n",
       "  .colab-df-quickchart-complete:disabled,\n",
       "  .colab-df-quickchart-complete:disabled:hover {\n",
       "    background-color: var(--disabled-bg-color);\n",
       "    fill: var(--disabled-fill-color);\n",
       "    box-shadow: none;\n",
       "  }\n",
       "\n",
       "  .colab-df-spinner {\n",
       "    border: 2px solid var(--fill-color);\n",
       "    border-color: transparent;\n",
       "    border-bottom-color: var(--fill-color);\n",
       "    animation:\n",
       "      spin 1s steps(1) infinite;\n",
       "  }\n",
       "\n",
       "  @keyframes spin {\n",
       "    0% {\n",
       "      border-color: transparent;\n",
       "      border-bottom-color: var(--fill-color);\n",
       "      border-left-color: var(--fill-color);\n",
       "    }\n",
       "    20% {\n",
       "      border-color: transparent;\n",
       "      border-left-color: var(--fill-color);\n",
       "      border-top-color: var(--fill-color);\n",
       "    }\n",
       "    30% {\n",
       "      border-color: transparent;\n",
       "      border-left-color: var(--fill-color);\n",
       "      border-top-color: var(--fill-color);\n",
       "      border-right-color: var(--fill-color);\n",
       "    }\n",
       "    40% {\n",
       "      border-color: transparent;\n",
       "      border-right-color: var(--fill-color);\n",
       "      border-top-color: var(--fill-color);\n",
       "    }\n",
       "    60% {\n",
       "      border-color: transparent;\n",
       "      border-right-color: var(--fill-color);\n",
       "    }\n",
       "    80% {\n",
       "      border-color: transparent;\n",
       "      border-right-color: var(--fill-color);\n",
       "      border-bottom-color: var(--fill-color);\n",
       "    }\n",
       "    90% {\n",
       "      border-color: transparent;\n",
       "      border-bottom-color: var(--fill-color);\n",
       "    }\n",
       "  }\n",
       "</style>\n",
       "\n",
       "      <script>\n",
       "        async function quickchart(key) {\n",
       "          const quickchartButtonEl =\n",
       "            document.querySelector('#' + key + ' button');\n",
       "          quickchartButtonEl.disabled = true;  // To prevent multiple clicks.\n",
       "          quickchartButtonEl.classList.add('colab-df-spinner');\n",
       "          try {\n",
       "            const charts = await google.colab.kernel.invokeFunction(\n",
       "                'suggestCharts', [key], {});\n",
       "          } catch (error) {\n",
       "            console.error('Error during call to suggestCharts:', error);\n",
       "          }\n",
       "          quickchartButtonEl.classList.remove('colab-df-spinner');\n",
       "          quickchartButtonEl.classList.add('colab-df-quickchart-complete');\n",
       "        }\n",
       "        (() => {\n",
       "          let quickchartButtonEl =\n",
       "            document.querySelector('#df-1c658141-c036-409f-bf37-cdb43833663c button');\n",
       "          quickchartButtonEl.style.display =\n",
       "            google.colab.kernel.accessAllowed ? 'block' : 'none';\n",
       "        })();\n",
       "      </script>\n",
       "    </div>\n",
       "\n",
       "    </div>\n",
       "  </div>\n"
      ],
      "text/plain": [
       "                                ClaimID  \\\n",
       "0  10944daf-f7d5-4e1d-8216-72ffa609fe41   \n",
       "1  fcbebb25-fc24-4c0f-a966-749edcf83fb1   \n",
       "2  9e9983e7-9ea7-45f5-84d8-ce49ccd8a4a1   \n",
       "3  a06273ed-44bb-452b-bbad-8618de080494   \n",
       "4  f702a717-254b-4cff-a0c7-8395db2f6616   \n",
       "\n",
       "                                          claim_text  \n",
       "0  Procedure hd662 performed by Cardiology for di...  \n",
       "1  Procedure mH831 performed by Pediatrics for di...  \n",
       "2  Procedure dg637 performed by Cardiology for di...  \n",
       "3  Procedure kG326 performed by Neurology for dia...  \n",
       "4  Procedure cx805 performed by General Practice ...  "
      ]
     },
     "execution_count": 5,
     "metadata": {},
     "output_type": "execute_result"
    }
   ],
   "source": [
    "# Create synthetic claim text combining multiple fields\n",
    "df[\"claim_text\"] = (\n",
    "    \"Procedure \" + df[\"ProcedureCode\"].astype(str) +\n",
    "    \" performed by \" + df[\"ProviderSpecialty\"].astype(str) +\n",
    "    \" for diagnosis \" + df[\"DiagnosisCode\"].astype(str)\n",
    ")\n",
    "\n",
    "# Preview\n",
    "df[[\"ClaimID\", \"claim_text\"]].head()\n"
   ]
  },
  {
   "cell_type": "markdown",
   "metadata": {
    "id": "zeWN0YdzpxId"
   },
   "source": [
    "#Tokenization Setup"
   ]
  },
  {
   "cell_type": "markdown",
   "metadata": {
    "id": "6IfG6T0zcNqB"
   },
   "source": [
    "In this step, I prepare the **text input pipeline** for the LLM.  \n",
    "- I rebuild the `claim_text` column in a robust way (handling missing values) to ensure consistent sentences.  \n",
    "- I then sample 1,000 claim texts and tokenize them using a Hugging Face BERT tokenizer, which splits sentences into subword tokens.  \n",
    "- Finally, I flatten the tokens and compute statistics (total and unique tokens) to understand vocabulary size and distribution in the healthcare claims corpus.\n"
   ]
  },
  {
   "cell_type": "markdown",
   "metadata": {
    "id": "du8kNry6cUpf"
   },
   "source": [
    "I visualize the **top 20 most frequent tokens** in the claim texts after tokenization.  \n",
    "This helps verify that the tokenizer is working correctly and shows which medical or financial terms dominate the dataset, giving an early sense of common claim patterns.\n"
   ]
  },
  {
   "cell_type": "code",
   "execution_count": 6,
   "metadata": {},
   "outputs": [
    {
     "name": "stderr",
     "output_type": "stream",
     "text": [
      "/usr/local/lib/python3.12/dist-packages/huggingface_hub/utils/_auth.py:94: UserWarning: \n",
      "The secret `HF_TOKEN` does not exist in your Colab secrets.\n",
      "To authenticate with the Hugging Face Hub, create a token in your settings tab (https://huggingface.co/settings/tokens), set it as secret in your Google Colab and restart your session.\n",
      "You will be able to reuse this secret in all of your notebooks.\n",
      "Please note that authentication is recommended but still optional to access public models or datasets.\n",
      "  warnings.warn(\n"
     ]
    },
    {
     "data": {
      "application/vnd.jupyter.widget-view+json": {
       "model_id": "8ee550fe3d544bb589e93bd53d75e559",
       "version_major": 2,
       "version_minor": 0
      },
      "text/plain": [
       "tokenizer_config.json:   0%|          | 0.00/48.0 [00:00<?, ?B/s]"
      ]
     },
     "metadata": {},
     "output_type": "display_data"
    },
    {
     "data": {
      "application/vnd.jupyter.widget-view+json": {
       "model_id": "a2977558b4e1468582db65f98c2e3859",
       "version_major": 2,
       "version_minor": 0
      },
      "text/plain": [
       "config.json:   0%|          | 0.00/570 [00:00<?, ?B/s]"
      ]
     },
     "metadata": {},
     "output_type": "display_data"
    },
    {
     "data": {
      "application/vnd.jupyter.widget-view+json": {
       "model_id": "053c65951d0d4acaa58dca8c3aaa658f",
       "version_major": 2,
       "version_minor": 0
      },
      "text/plain": [
       "vocab.txt:   0%|          | 0.00/232k [00:00<?, ?B/s]"
      ]
     },
     "metadata": {},
     "output_type": "display_data"
    },
    {
     "data": {
      "application/vnd.jupyter.widget-view+json": {
       "model_id": "5e4f775c1dba40b89e3bebb7c9312b57",
       "version_major": 2,
       "version_minor": 0
      },
      "text/plain": [
       "tokenizer.json:   0%|          | 0.00/466k [00:00<?, ?B/s]"
      ]
     },
     "metadata": {},
     "output_type": "display_data"
    },
    {
     "name": "stdout",
     "output_type": "stream",
     "text": [
      "Sample example: Procedure hd662 performed by Cardiology for diagnosis yy006\n",
      "Total tokens: 14782\n",
      "Unique tokens: 484\n"
     ]
    }
   ],
   "source": [
    "from transformers import AutoTokenizer\n",
    "\n",
    "tokenizer = AutoTokenizer.from_pretrained(\"bert-base-uncased\")\n",
    "# 1) Build a robust claim_text (handles missing cols & NaNs)\n",
    "required = [\"ProcedureCode\", \"ProviderSpecialty\", \"DiagnosisCode\"]\n",
    "missing = [c for c in required if c not in df.columns]\n",
    "if missing:\n",
    "    raise KeyError(f\"Missing required columns: {missing}\")\n",
    "\n",
    "tmp = df[required].fillna(\"\").astype(str)\n",
    "df[\"claim_text\"] = (\n",
    "    \"Procedure \" + tmp[\"ProcedureCode\"] +\n",
    "    \" performed by \" + tmp[\"ProviderSpecialty\"] +\n",
    "    \" for diagnosis \" + tmp[\"DiagnosisCode\"]\n",
    ")\n",
    "\n",
    "# 2) Sample texts\n",
    "sample_texts = df[\"claim_text\"].dropna().map(str).tolist()[:1000]\n",
    "print(\"Sample example:\", sample_texts[0] if sample_texts else \"<no rows>\")\n",
    "\n",
    "# 3) Tokenize robustly (works for Hugging Face OR Keras)\n",
    "tokens = None\n",
    "try:\n",
    "    if \"tokenizer\" not in globals():\n",
    "        raise NameError(\"tokenizer is not defined. Create it before running this cell.\")\n",
    "\n",
    "    if hasattr(tokenizer, \"tokenize\"):  # Hugging Face-style\n",
    "        tokens = [tokenizer.tokenize(t) for t in sample_texts]\n",
    "    elif hasattr(tokenizer, \"texts_to_sequences\"):  # Keras-style\n",
    "        seqs = tokenizer.texts_to_sequences(sample_texts)\n",
    "        # Convert integer ids to strings so set() works below\n",
    "        tokens = [[str(i) for i in s] for s in seqs]\n",
    "    else:\n",
    "        raise AttributeError(\n",
    "            \"Unsupported tokenizer: expected .tokenize (HF) or .texts_to_sequences (Keras).\"\n",
    "        )\n",
    "except Exception as e:\n",
    "    # Help you see the first failing input\n",
    "    import traceback\n",
    "    print(\"Tokenizer error:\", repr(e))\n",
    "    traceback.print_exc()\n",
    "    print(\"First 3 texts for debugging:\")\n",
    "    for t in sample_texts[:3]:\n",
    "        print(\"  ->\", t)\n",
    "    raise\n",
    "\n",
    "# 4) Flatten + stats (force str to avoid unhashable edge cases)\n",
    "flat_tokens = [str(tok) for sublist in tokens for tok in sublist]\n",
    "print(\"Total tokens:\", len(flat_tokens))\n",
    "print(\"Unique tokens:\", len(set(flat_tokens)))\n"
   ]
  },
  {
   "cell_type": "markdown",
   "metadata": {
    "id": "9ACK6r4rp5Cu"
   },
   "source": [
    "#Visualization"
   ]
  },
  {
   "cell_type": "markdown",
   "metadata": {
    "id": "nB0yiSULcZuM"
   },
   "source": [
    "Here I plot the **20 most common tokens** found in the healthcare claim texts.  \n",
    "This step helps confirm that tokenization worked properly and gives insight into which medical or financial codes and terms appear most often in the dataset.  \n",
    "Understanding frequent tokens is useful because they dominate the training signal for LLM embeddings and highlight recurring claim patterns.\n"
   ]
  },
  {
   "cell_type": "code",
   "execution_count": 7,
   "metadata": {},
   "outputs": [
    {
     "data": {
      "image/png": "[encoded data removed]",
      "text/plain": [
       "<Figure size 1000x600 with 1 Axes>"
      ]
     },
     "metadata": {},
     "output_type": "display_data"
    }
   ],
   "source": [
    "from collections import Counter\n",
    "import seaborn as sns\n",
    "import matplotlib.pyplot as plt\n",
    "\n",
    "token_counts = Counter(flat_tokens)\n",
    "common_tokens = token_counts.most_common(20)\n",
    "\n",
    "plt.figure(figsize=(10,6))\n",
    "sns.barplot(x=[c[1] for c in common_tokens], y=[c[0] for c in common_tokens])\n",
    "plt.title(\"Top 20 Most Frequent Tokens in Claim Texts\")\n",
    "plt.xlabel(\"Frequency\")\n",
    "plt.ylabel(\"Token\")\n",
    "plt.show()\n"
   ]
  },
  {
   "cell_type": "markdown",
   "metadata": {
    "id": "xCDHOoVVSa0c"
   },
   "source": [
    "#Part 2: Embedding Visualization"
   ]
  },
  {
   "cell_type": "markdown",
   "metadata": {
    "id": "wYY_BBkAqh4x"
   },
   "source": [
    "#Install Dependencies"
   ]
  },
  {
   "cell_type": "markdown",
   "metadata": {
    "id": "Me8eFuHOceTM"
   },
   "source": [
    "I install the required Python libraries for this section:  \n",
    "- **Transformers** for working with Large Language Model (LLM) embeddings (e.g., BERT).  \n",
    "- **UMAP** for dimensionality reduction and visualization of high-dimensional embeddings.  \n",
    "These tools allow me to generate claim embeddings and then project them into 2D for analysis.\n"
   ]
  },
  {
   "cell_type": "code",
   "execution_count": 8,
   "metadata": {},
   "outputs": [],
   "source": [
    "!pip install transformers umap-learn --quiet\n"
   ]
  },
  {
   "cell_type": "markdown",
   "metadata": {
    "id": "vrY2KERUqp-V"
   },
   "source": [
    "#Generate BERT Embeddings\n",
    "\n"
   ]
  },
  {
   "cell_type": "markdown",
   "metadata": {
    "id": "dyvntqQKclBO"
   },
   "source": [
    "I generate **BERT embeddings** for the healthcare claim texts.  \n",
    "- First, I load a pretrained BERT model and tokenizer (`bert-base-uncased`).  \n",
    "- I tokenize a sample of 2,000 claims, padding and truncating for consistent input length.  \n",
    "- Using the model’s hidden states, I apply mean pooling across tokens to create a single embedding vector for each claim.  \n",
    "This produces a 768-dimensional representation of each claim, which captures semantic meaning for later visualization and analysis.\n"
   ]
  },
  {
   "cell_type": "code",
   "execution_count": 9,
   "metadata": {},
   "outputs": [
    {
     "data": {
      "application/vnd.jupyter.widget-view+json": {
       "model_id": "771ee482de144c19b51478346e225146",
       "version_major": 2,
       "version_minor": 0
      },
      "text/plain": [
       "model.safetensors:   0%|          | 0.00/440M [00:00<?, ?B/s]"
      ]
     },
     "metadata": {},
     "output_type": "display_data"
    },
    {
     "data": {
      "text/plain": [
       "torch.Size([2000, 768])"
      ]
     },
     "execution_count": 9,
     "metadata": {},
     "output_type": "execute_result"
    }
   ],
   "source": [
    "import torch\n",
    "from transformers import BertTokenizer, BertModel\n",
    "\n",
    "# Load pretrained BERT\n",
    "tokenizer = BertTokenizer.from_pretrained(\"bert-base-uncased\")\n",
    "model = BertModel.from_pretrained(\"bert-base-uncased\")\n",
    "model.eval()\n",
    "\n",
    "# Use a sample subset for speed\n",
    "texts = df[\"claim_text\"].dropna().astype(str).tolist()[:2000]\n",
    "\n",
    "# Tokenize\n",
    "inputs = tokenizer(texts, padding=True, truncation=True, return_tensors=\"pt\", max_length=50)\n",
    "\n",
    "# Get hidden states\n",
    "with torch.no_grad():\n",
    "    outputs = model(**inputs)\n",
    "    last_hidden_state = outputs.last_hidden_state  # [batch_size, seq_len, hidden_dim]\n",
    "    embeddings = last_hidden_state.mean(dim=1)     # Mean pooling -> [batch_size, hidden_dim]\n",
    "\n",
    "embeddings.shape\n"
   ]
  },
  {
   "cell_type": "markdown",
   "metadata": {
    "id": "VdgLg_O8cxY1"
   },
   "source": [
    "The output of `embeddings.shape` confirms the size of the embedding matrix.  \n",
    "- The first number is the number of claim texts processed (e.g., 2000).  \n",
    "- The second number is the embedding dimension (768 for BERT).  \n",
    "This means each claim is now represented as a 768-dimensional vector that encodes its semantic meaning.\n"
   ]
  },
  {
   "cell_type": "markdown",
   "metadata": {
    "id": "Y5BUTyhkrzN9"
   },
   "source": [
    "#PCA Visualization"
   ]
  },
  {
   "cell_type": "markdown",
   "metadata": {
    "id": "GH542Urfc1yn"
   },
   "source": [
    "I apply **Principal Component Analysis (PCA)** to reduce the 768-dimensional claim embeddings down to 2 dimensions.  \n",
    "This allows me to visualize the embeddings in a simple scatter plot, where each point represents a healthcare claim.  \n",
    "Although PCA is linear and may not capture all structure, it provides a first look at how claims cluster based on their text semantics.\n"
   ]
  },
  {
   "cell_type": "code",
   "execution_count": 10,
   "metadata": {},
   "outputs": [
    {
     "data": {
      "image/png": "[encoded data removed]",
      "text/plain": [
       "<Figure size 800x600 with 1 Axes>"
      ]
     },
     "metadata": {},
     "output_type": "display_data"
    }
   ],
   "source": [
    "from sklearn.decomposition import PCA\n",
    "import matplotlib.pyplot as plt\n",
    "\n",
    "pca = PCA(n_components=2)\n",
    "embeddings_pca = pca.fit_transform(embeddings.numpy())\n",
    "\n",
    "plt.figure(figsize=(8,6))\n",
    "plt.scatter(embeddings_pca[:,0], embeddings_pca[:,1], alpha=0.5)\n",
    "plt.title(\"PCA Projection of Claim Text Embeddings\")\n",
    "plt.xlabel(\"PC1\")\n",
    "plt.ylabel(\"PC2\")\n",
    "plt.show()\n"
   ]
  },
  {
   "cell_type": "markdown",
   "metadata": {
    "id": "cpAKNniZc96q"
   },
   "source": [
    "The PCA projection shows that healthcare claim embeddings naturally form distinct clusters.  \n",
    "This suggests that claims with similar diagnoses, procedures, or provider specialties share semantic patterns in their text representations.  \n",
    "While PCA simplifies 768 dimensions into just 2, the separation still indicates that the LLM embeddings capture meaningful structure in the claims data.\n"
   ]
  },
  {
   "cell_type": "markdown",
   "metadata": {
    "id": "vOTQF2Tyr96C"
   },
   "source": [
    "#UMAP Visualization (better clustering)"
   ]
  },
  {
   "cell_type": "markdown",
   "metadata": {
    "id": "SBqQFZFmdCwS"
   },
   "source": [
    "I apply **UMAP (Uniform Manifold Approximation and Projection)** to project the 768-dimensional embeddings into 2D.  \n",
    "UMAP is a nonlinear method that preserves local structure better than PCA, often producing tighter clusters.  \n",
    "Each point represents a healthcare claim, and points are colored by their claim amount to see whether cost patterns align with the text-based embedding clusters.\n"
   ]
  },
  {
   "cell_type": "code",
   "execution_count": 11,
   "metadata": {},
   "outputs": [
    {
     "name": "stderr",
     "output_type": "stream",
     "text": [
      "/usr/local/lib/python3.12/dist-packages/umap/umap_.py:1952: UserWarning: n_jobs value 1 overridden to 1 by setting random_state. Use no seed for parallelism.\n",
      "  warn(\n"
     ]
    },
    {
     "data": {
      "image/png": "[encoded data removed]",
      "text/plain": [
       "<Figure size 800x600 with 2 Axes>"
      ]
     },
     "metadata": {},
     "output_type": "display_data"
    }
   ],
   "source": [
    "import umap\n",
    "\n",
    "umap_model = umap.UMAP(n_neighbors=15, min_dist=0.1, random_state=42)\n",
    "embeddings_umap = umap_model.fit_transform(embeddings.numpy())\n",
    "\n",
    "plt.figure(figsize=(8,6))\n",
    "plt.scatter(embeddings_umap[:,0], embeddings_umap[:,1], alpha=0.5, c=df[\"ClaimAmount\"][:2000], cmap=\"viridis\")\n",
    "plt.colorbar(label=\"Claim Amount\")\n",
    "plt.title(\"UMAP Projection of Claim Text Embeddings (colored by Claim Amount)\")\n",
    "plt.show()\n"
   ]
  },
  {
   "cell_type": "markdown",
   "metadata": {
    "id": "yHJUDw8vdID1"
   },
   "source": [
    "The UMAP projection shows well-separated clusters of healthcare claim texts, confirming that LLM embeddings capture meaningful semantic differences between claims.  \n",
    "Coloring by claim amount reveals that costs vary within clusters, suggesting that text semantics (procedures, diagnoses, providers) are the main drivers of grouping, while claim amounts provide an additional layer of variation.  \n",
    "This demonstrates how LLM embeddings can help organize unstructured claim data into meaningful groups for downstream tasks such as fraud detection, claim categorization, or cost prediction.\n"
   ]
  },
  {
   "cell_type": "markdown",
   "metadata": {
    "id": "Rrg5KGAxSUJJ"
   },
   "source": [
    "#Part 3: Embedding Dimension Experiments"
   ]
  },
  {
   "cell_type": "markdown",
   "metadata": {
    "id": "MJj-Y-GiSgvH"
   },
   "source": [
    "##Setup"
   ]
  },
  {
   "cell_type": "markdown",
   "metadata": {
    "id": "kzUeUnupdNhF"
   },
   "source": [
    "To test whether the embeddings are useful for downstream prediction,  \n",
    "I set up a **classification task** where the goal is to predict the claim type from the BERT embeddings.  \n",
    "Here I split the embeddings into training and test sets, keeping the labels (`ClaimType`) aligned.  \n",
    "This step prepares the data for model training and evaluation.\n"
   ]
  },
  {
   "cell_type": "code",
   "execution_count": 12,
   "metadata": {},
   "outputs": [],
   "source": [
    "from sklearn.linear_model import LogisticRegression\n",
    "from sklearn.metrics import accuracy_score, f1_score\n",
    "from sklearn.model_selection import train_test_split\n",
    "from sklearn.decomposition import PCA\n",
    "import numpy as np\n",
    "\n",
    "# Use a subset for speed\n",
    "X = embeddings.numpy()\n",
    "y = df[\"ClaimType\"].astype(str).values[:len(X)]\n",
    "\n",
    "# Train/test split\n",
    "X_train, X_test, y_train, y_test = train_test_split(\n",
    "    X, y, test_size=0.2, random_state=42, stratify=y\n",
    ")\n"
   ]
  },
  {
   "cell_type": "markdown",
   "metadata": {
    "id": "lXuA79uDSsGw"
   },
   "source": [
    "##Experiment with Different Embedding Dimensions"
   ]
  },
  {
   "cell_type": "markdown",
   "metadata": {
    "id": "DL4X3JGldVCV"
   },
   "source": [
    "I evaluate how embedding size affects classification performance.  \n",
    "For each dimension (128, 256, 512, 768), I reduce the embeddings with PCA (if smaller than 768) and train a **Logistic Regression classifier** to predict claim type.  \n",
    "By comparing accuracy and F1-scores across different dimensions, I can measure the trade-off between efficiency (smaller vectors) and predictive power (classification performance).\n"
   ]
  },
  {
   "cell_type": "code",
   "execution_count": 13,
   "metadata": {},
   "outputs": [],
   "source": [
    "dims = [128, 256, 512, 768]\n",
    "results = []\n",
    "\n",
    "for d in dims:\n",
    "    # Dimensionality reduction if d < 768\n",
    "    if d < 768:\n",
    "        pca = PCA(n_components=d, random_state=42)\n",
    "        X_train_reduced = pca.fit_transform(X_train)\n",
    "        X_test_reduced = pca.transform(X_test)\n",
    "    else:\n",
    "        X_train_reduced, X_test_reduced = X_train, X_test\n",
    "\n",
    "    # Train classifier\n",
    "    clf = LogisticRegression(max_iter=2000, n_jobs=-1)\n",
    "    clf.fit(X_train_reduced, y_train)\n",
    "\n",
    "    # Predictions\n",
    "    y_pred = clf.predict(X_test_reduced)\n",
    "\n",
    "    acc = accuracy_score(y_test, y_pred)\n",
    "    f1 = f1_score(y_test, y_pred, average=\"weighted\")\n",
    "\n",
    "    results.append((d, acc, f1))\n"
   ]
  },
  {
   "cell_type": "markdown",
   "metadata": {
    "id": "DJzzd0jkTH5b"
   },
   "source": [
    "##Results Table"
   ]
  },
  {
   "cell_type": "markdown",
   "metadata": {
    "id": "wiT5__Sdday0"
   },
   "source": [
    "I collect the evaluation metrics into a DataFrame for easier comparison.  \n",
    "This table shows how classification accuracy and F1 score change as the embedding dimension is reduced, making it clear whether smaller embeddings preserve predictive performance.\n"
   ]
  },
  {
   "cell_type": "code",
   "execution_count": 16,
   "metadata": {},
   "outputs": [
    {
     "data": {
      "application/vnd.google.colaboratory.intrinsic+json": {
       "summary": "{\n  \"name\": \"results_df\",\n  \"rows\": 4,\n  \"fields\": [\n    {\n      \"column\": \"Embedding Dim\",\n      \"properties\": {\n        \"dtype\": \"number\",\n        \"std\": 283,\n        \"min\": 128,\n        \"max\": 768,\n        \"num_unique_values\": 4,\n        \"samples\": [\n          256,\n          768,\n          128\n        ],\n        \"semantic_type\": \"\",\n        \"description\": \"\"\n      }\n    },\n    {\n      \"column\": \"Accuracy\",\n      \"properties\": {\n        \"dtype\": \"number\",\n        \"std\": 0.017853571071357117,\n        \"min\": 0.2025,\n        \"max\": 0.24,\n        \"num_unique_values\": 3,\n        \"samples\": [\n          0.2025,\n          0.2325,\n          0.24\n        ],\n        \"semantic_type\": \"\",\n        \"description\": \"\"\n      }\n    },\n    {\n      \"column\": \"F1 Score\",\n      \"properties\": {\n        \"dtype\": \"number\",\n        \"std\": 0.018524514973266286,\n        \"min\": 0.19962991987472534,\n        \"max\": 0.23881190945236141,\n        \"num_unique_values\": 4,\n        \"samples\": [\n          0.23083067164003698,\n          0.23823464089685722,\n          0.19962991987472534\n        ],\n        \"semantic_type\": \"\",\n        \"description\": \"\"\n      }\n    }\n  ]\n}",
       "type": "dataframe",
       "variable_name": "results_df"
      },
      "text/html": [
       "\n",
       "  <div id=\"df-6938f214-dc3c-439f-b443-33347921964c\" class=\"colab-df-container\">\n",
       "    <div>\n",
       "<style scoped>\n",
       "    .dataframe tbody tr th:only-of-type {\n",
       "        vertical-align: middle;\n",
       "    }\n",
       "\n",
       "    .dataframe tbody tr th {\n",
       "        vertical-align: top;\n",
       "    }\n",
       "\n",
       "    .dataframe thead th {\n",
       "        text-align: right;\n",
       "    }\n",
       "</style>\n",
       "<table border=\"1\" class=\"dataframe\">\n",
       "  <thead>\n",
       "    <tr style=\"text-align: right;\">\n",
       "      <th></th>\n",
       "      <th>Embedding Dim</th>\n",
       "      <th>Accuracy</th>\n",
       "      <th>F1 Score</th>\n",
       "    </tr>\n",
       "  </thead>\n",
       "  <tbody>\n",
       "    <tr>\n",
       "      <th>0</th>\n",
       "      <td>128</td>\n",
       "      <td>0.2025</td>\n",
       "      <td>0.199630</td>\n",
       "    </tr>\n",
       "    <tr>\n",
       "      <th>1</th>\n",
       "      <td>256</td>\n",
       "      <td>0.2325</td>\n",
       "      <td>0.230831</td>\n",
       "    </tr>\n",
       "    <tr>\n",
       "      <th>2</th>\n",
       "      <td>512</td>\n",
       "      <td>0.2400</td>\n",
       "      <td>0.238812</td>\n",
       "    </tr>\n",
       "    <tr>\n",
       "      <th>3</th>\n",
       "      <td>768</td>\n",
       "      <td>0.2400</td>\n",
       "      <td>0.238235</td>\n",
       "    </tr>\n",
       "  </tbody>\n",
       "</table>\n",
       "</div>\n",
       "    <div class=\"colab-df-buttons\">\n",
       "\n",
       "  <div class=\"colab-df-container\">\n",
       "    <button class=\"colab-df-convert\" onclick=\"convertToInteractive('df-6938f214-dc3c-439f-b443-33347921964c')\"\n",
       "            title=\"Convert this dataframe to an interactive table.\"\n",
       "            style=\"display:none;\">\n",
       "\n",
       "  <svg xmlns=\"http://www.w3.org/2000/svg\" height=\"24px\" viewBox=\"0 -960 960 960\">\n",
       "    <path d=\"M120-120v-720h720v720H120Zm60-500h600v-160H180v160Zm220 220h160v-160H400v160Zm0 220h160v-160H400v160ZM180-400h160v-160H180v160Zm440 0h160v-160H620v160ZM180-180h160v-160H180v160Zm440 0h160v-160H620v160Z\"/>\n",
       "  </svg>\n",
       "    </button>\n",
       "\n",
       "  <style>\n",
       "    .colab-df-container {\n",
       "      display:flex;\n",
       "      gap: 12px;\n",
       "    }\n",
       "\n",
       "    .colab-df-convert {\n",
       "      background-color: #E8F0FE;\n",
       "      border: none;\n",
       "      border-radius: 50%;\n",
       "      cursor: pointer;\n",
       "      display: none;\n",
       "      fill: #1967D2;\n",
       "      height: 32px;\n",
       "      padding: 0 0 0 0;\n",
       "      width: 32px;\n",
       "    }\n",
       "\n",
       "    .colab-df-convert:hover {\n",
       "      background-color: #E2EBFA;\n",
       "      box-shadow: 0px 1px 2px rgba(60, 64, 67, 0.3), 0px 1px 3px 1px rgba(60, 64, 67, 0.15);\n",
       "      fill: #174EA6;\n",
       "    }\n",
       "\n",
       "    .colab-df-buttons div {\n",
       "      margin-bottom: 4px;\n",
       "    }\n",
       "\n",
       "    [theme=dark] .colab-df-convert {\n",
       "      background-color: #3B4455;\n",
       "      fill: #D2E3FC;\n",
       "    }\n",
       "\n",
       "    [theme=dark] .colab-df-convert:hover {\n",
       "      background-color: #434B5C;\n",
       "      box-shadow: 0px 1px 3px 1px rgba(0, 0, 0, 0.15);\n",
       "      filter: drop-shadow(0px 1px 2px rgba(0, 0, 0, 0.3));\n",
       "      fill: #FFFFFF;\n",
       "    }\n",
       "  </style>\n",
       "\n",
       "    <script>\n",
       "      const buttonEl =\n",
       "        document.querySelector('#df-6938f214-dc3c-439f-b443-33347921964c button.colab-df-convert');\n",
       "      buttonEl.style.display =\n",
       "        google.colab.kernel.accessAllowed ? 'block' : 'none';\n",
       "\n",
       "      async function convertToInteractive(key) {\n",
       "        const element = document.querySelector('#df-6938f214-dc3c-439f-b443-33347921964c');\n",
       "        const dataTable =\n",
       "          await google.colab.kernel.invokeFunction('convertToInteractive',\n",
       "                                                    [key], {});\n",
       "        if (!dataTable) return;\n",
       "\n",
       "        const docLinkHtml = 'Like what you see? Visit the ' +\n",
       "          '<a target=\"_blank\" href=https://colab.research.google.com/notebooks/data_table.ipynb>data table notebook</a>'\n",
       "          + ' to learn more about interactive tables.';\n",
       "        element.innerHTML = '';\n",
       "        dataTable['output_type'] = 'display_data';\n",
       "        await google.colab.output.renderOutput(dataTable, element);\n",
       "        const docLink = document.createElement('div');\n",
       "        docLink.innerHTML = docLinkHtml;\n",
       "        element.appendChild(docLink);\n",
       "      }\n",
       "    </script>\n",
       "  </div>\n",
       "\n",
       "\n",
       "    <div id=\"df-b3cef3ed-ea07-4c9a-8826-fc34e980f9c7\">\n",
       "      <button class=\"colab-df-quickchart\" onclick=\"quickchart('df-b3cef3ed-ea07-4c9a-8826-fc34e980f9c7')\"\n",
       "                title=\"Suggest charts\"\n",
       "                style=\"display:none;\">\n",
       "\n",
       "<svg xmlns=\"http://www.w3.org/2000/svg\" height=\"24px\"viewBox=\"0 0 24 24\"\n",
       "     width=\"24px\">\n",
       "    <g>\n",
       "        <path d=\"M19 3H5c-1.1 0-2 .9-2 2v14c0 1.1.9 2 2 2h14c1.1 0 2-.9 2-2V5c0-1.1-.9-2-2-2zM9 17H7v-7h2v7zm4 0h-2V7h2v10zm4 0h-2v-4h2v4z\"/>\n",
       "    </g>\n",
       "</svg>\n",
       "      </button>\n",
       "\n",
       "<style>\n",
       "  .colab-df-quickchart {\n",
       "      --bg-color: #E8F0FE;\n",
       "      --fill-color: #1967D2;\n",
       "      --hover-bg-color: #E2EBFA;\n",
       "      --hover-fill-color: #174EA6;\n",
       "      --disabled-fill-color: #AAA;\n",
       "      --disabled-bg-color: #DDD;\n",
       "  }\n",
       "\n",
       "  [theme=dark] .colab-df-quickchart {\n",
       "      --bg-color: #3B4455;\n",
       "      --fill-color: #D2E3FC;\n",
       "      --hover-bg-color: #434B5C;\n",
       "      --hover-fill-color: #FFFFFF;\n",
       "      --disabled-bg-color: #3B4455;\n",
       "      --disabled-fill-color: #666;\n",
       "  }\n",
       "\n",
       "  .colab-df-quickchart {\n",
       "    background-color: var(--bg-color);\n",
       "    border: none;\n",
       "    border-radius: 50%;\n",
       "    cursor: pointer;\n",
       "    display: none;\n",
       "    fill: var(--fill-color);\n",
       "    height: 32px;\n",
       "    padding: 0;\n",
       "    width: 32px;\n",
       "  }\n",
       "\n",
       "  .colab-df-quickchart:hover {\n",
       "    background-color: var(--hover-bg-color);\n",
       "    box-shadow: 0 1px 2px rgba(60, 64, 67, 0.3), 0 1px 3px 1px rgba(60, 64, 67, 0.15);\n",
       "    fill: var(--button-hover-fill-color);\n",
       "  }\n",
       "\n",
       "  .colab-df-quickchart-complete:disabled,\n",
       "  .colab-df-quickchart-complete:disabled:hover {\n",
       "    background-color: var(--disabled-bg-color);\n",
       "    fill: var(--disabled-fill-color);\n",
       "    box-shadow: none;\n",
       "  }\n",
       "\n",
       "  .colab-df-spinner {\n",
       "    border: 2px solid var(--fill-color);\n",
       "    border-color: transparent;\n",
       "    border-bottom-color: var(--fill-color);\n",
       "    animation:\n",
       "      spin 1s steps(1) infinite;\n",
       "  }\n",
       "\n",
       "  @keyframes spin {\n",
       "    0% {\n",
       "      border-color: transparent;\n",
       "      border-bottom-color: var(--fill-color);\n",
       "      border-left-color: var(--fill-color);\n",
       "    }\n",
       "    20% {\n",
       "      border-color: transparent;\n",
       "      border-left-color: var(--fill-color);\n",
       "      border-top-color: var(--fill-color);\n",
       "    }\n",
       "    30% {\n",
       "      border-color: transparent;\n",
       "      border-left-color: var(--fill-color);\n",
       "      border-top-color: var(--fill-color);\n",
       "      border-right-color: var(--fill-color);\n",
       "    }\n",
       "    40% {\n",
       "      border-color: transparent;\n",
       "      border-right-color: var(--fill-color);\n",
       "      border-top-color: var(--fill-color);\n",
       "    }\n",
       "    60% {\n",
       "      border-color: transparent;\n",
       "      border-right-color: var(--fill-color);\n",
       "    }\n",
       "    80% {\n",
       "      border-color: transparent;\n",
       "      border-right-color: var(--fill-color);\n",
       "      border-bottom-color: var(--fill-color);\n",
       "    }\n",
       "    90% {\n",
       "      border-color: transparent;\n",
       "      border-bottom-color: var(--fill-color);\n",
       "    }\n",
       "  }\n",
       "</style>\n",
       "\n",
       "      <script>\n",
       "        async function quickchart(key) {\n",
       "          const quickchartButtonEl =\n",
       "            document.querySelector('#' + key + ' button');\n",
       "          quickchartButtonEl.disabled = true;  // To prevent multiple clicks.\n",
       "          quickchartButtonEl.classList.add('colab-df-spinner');\n",
       "          try {\n",
       "            const charts = await google.colab.kernel.invokeFunction(\n",
       "                'suggestCharts', [key], {});\n",
       "          } catch (error) {\n",
       "            console.error('Error during call to suggestCharts:', error);\n",
       "          }\n",
       "          quickchartButtonEl.classList.remove('colab-df-spinner');\n",
       "          quickchartButtonEl.classList.add('colab-df-quickchart-complete');\n",
       "        }\n",
       "        (() => {\n",
       "          let quickchartButtonEl =\n",
       "            document.querySelector('#df-b3cef3ed-ea07-4c9a-8826-fc34e980f9c7 button');\n",
       "          quickchartButtonEl.style.display =\n",
       "            google.colab.kernel.accessAllowed ? 'block' : 'none';\n",
       "        })();\n",
       "      </script>\n",
       "    </div>\n",
       "\n",
       "  <div id=\"id_d2c61372-c541-4108-a15b-ec27b9fc64aa\">\n",
       "    <style>\n",
       "      .colab-df-generate {\n",
       "        background-color: #E8F0FE;\n",
       "        border: none;\n",
       "        border-radius: 50%;\n",
       "        cursor: pointer;\n",
       "        display: none;\n",
       "        fill: #1967D2;\n",
       "        height: 32px;\n",
       "        padding: 0 0 0 0;\n",
       "        width: 32px;\n",
       "      }\n",
       "\n",
       "      .colab-df-generate:hover {\n",
       "        background-color: #E2EBFA;\n",
       "        box-shadow: 0px 1px 2px rgba(60, 64, 67, 0.3), 0px 1px 3px 1px rgba(60, 64, 67, 0.15);\n",
       "        fill: #174EA6;\n",
       "      }\n",
       "\n",
       "      [theme=dark] .colab-df-generate {\n",
       "        background-color: #3B4455;\n",
       "        fill: #D2E3FC;\n",
       "      }\n",
       "\n",
       "      [theme=dark] .colab-df-generate:hover {\n",
       "        background-color: #434B5C;\n",
       "        box-shadow: 0px 1px 3px 1px rgba(0, 0, 0, 0.15);\n",
       "        filter: drop-shadow(0px 1px 2px rgba(0, 0, 0, 0.3));\n",
       "        fill: #FFFFFF;\n",
       "      }\n",
       "    </style>\n",
       "    <button class=\"colab-df-generate\" onclick=\"generateWithVariable('results_df')\"\n",
       "            title=\"Generate code using this dataframe.\"\n",
       "            style=\"display:none;\">\n",
       "\n",
       "  <svg xmlns=\"http://www.w3.org/2000/svg\" height=\"24px\"viewBox=\"0 0 24 24\"\n",
       "       width=\"24px\">\n",
       "    <path d=\"M7,19H8.4L18.45,9,17,7.55,7,17.6ZM5,21V16.75L18.45,3.32a2,2,0,0,1,2.83,0l1.4,1.43a1.91,1.91,0,0,1,.58,1.4,1.91,1.91,0,0,1-.58,1.4L9.25,21ZM18.45,9,17,7.55Zm-12,3A5.31,5.31,0,0,0,4.9,8.1,5.31,5.31,0,0,0,1,6.5,5.31,5.31,0,0,0,4.9,4.9,5.31,5.31,0,0,0,6.5,1,5.31,5.31,0,0,0,8.1,4.9,5.31,5.31,0,0,0,12,6.5,5.46,5.46,0,0,0,6.5,12Z\"/>\n",
       "  </svg>\n",
       "    </button>\n",
       "    <script>\n",
       "      (() => {\n",
       "      const buttonEl =\n",
       "        document.querySelector('#id_d2c61372-c541-4108-a15b-ec27b9fc64aa button.colab-df-generate');\n",
       "      buttonEl.style.display =\n",
       "        google.colab.kernel.accessAllowed ? 'block' : 'none';\n",
       "\n",
       "      buttonEl.onclick = () => {\n",
       "        google.colab.notebook.generateWithVariable('results_df');\n",
       "      }\n",
       "      })();\n",
       "    </script>\n",
       "  </div>\n",
       "\n",
       "    </div>\n",
       "  </div>\n"
      ],
      "text/plain": [
       "   Embedding Dim  Accuracy  F1 Score\n",
       "0            128    0.2025  0.199630\n",
       "1            256    0.2325  0.230831\n",
       "2            512    0.2400  0.238812\n",
       "3            768    0.2400  0.238235"
      ]
     },
     "execution_count": 16,
     "metadata": {},
     "output_type": "execute_result"
    }
   ],
   "source": [
    "import pandas as pd\n",
    "\n",
    "results_df = pd.DataFrame(results, columns=[\"Embedding Dim\", \"Accuracy\", \"F1 Score\"])\n",
    "results_df\n"
   ]
  },
  {
   "cell_type": "markdown",
   "metadata": {
    "id": "mGAzQELVTOZh"
   },
   "source": [
    "##Visualization of Performance"
   ]
  },
  {
   "cell_type": "markdown",
   "metadata": {
    "id": "grhumThXdfWf"
   },
   "source": [
    "Finally, I plot accuracy and F1 score against embedding dimension.  \n",
    "This visualization highlights the trade-off between efficiency (smaller embeddings) and performance.  \n",
    "If the curves stay flat across lower dimensions (e.g., 128–256), it shows that embeddings can be compressed significantly while still retaining predictive power for claim type classification.\n"
   ]
  },
  {
   "cell_type": "code",
   "execution_count": 17,
   "metadata": {},
   "outputs": [
    {
     "data": {
      "image/png": "[encoded data removed]",
      "text/plain": [
       "<Figure size 800x600 with 1 Axes>"
      ]
     },
     "metadata": {},
     "output_type": "display_data"
    }
   ],
   "source": [
    "import matplotlib.pyplot as plt\n",
    "\n",
    "plt.figure(figsize=(8,6))\n",
    "plt.plot(results_df[\"Embedding Dim\"], results_df[\"Accuracy\"], marker=\"o\", label=\"Accuracy\")\n",
    "plt.plot(results_df[\"Embedding Dim\"], results_df[\"F1 Score\"], marker=\"o\", label=\"F1 Score\")\n",
    "plt.xlabel(\"Embedding Dimension\")\n",
    "plt.ylabel(\"Score\")\n",
    "plt.title(\"Impact of Embedding Dimension on ClaimType Classification\")\n",
    "plt.legend()\n",
    "plt.show()\n"
   ]
  },
  {
   "cell_type": "markdown",
   "metadata": {
    "id": "B6k1LB6Odk5L"
   },
   "source": [
    "The results show that reducing embedding size from 768 down to 256 dimensions had very little impact on classification accuracy or F1 score.  \n",
    "This means that smaller embeddings can be used to improve efficiency (lower storage and faster training) without losing much predictive performance.  \n",
    "In practice, this demonstrates that dimensionality reduction is a viable strategy for scaling claim classification tasks in healthcare-finance applications.\n"
   ]
  },
  {
   "cell_type": "markdown",
   "metadata": {
    "id": "xJ5ZEym3Tdyf"
   },
   "source": [
    "#Part 4: Loss & perplexity analysis"
   ]
  },
  {
   "cell_type": "markdown",
   "metadata": {
    "id": "ZKUKpfWJTjBC"
   },
   "source": [
    "##Install + Import"
   ]
  },
  {
   "cell_type": "markdown",
   "metadata": {
    "id": "o1TIE8k3dprs"
   },
   "source": [
    "I upgrade and import the required libraries for **fine-tuning a language model**.  \n",
    "- Upgrading `transformers` ensures I have the latest features and bug fixes.  \n",
    "- I load **DistilBERT**, a smaller and faster variant of BERT, for masked language modeling on claim texts.  \n",
    "- I also import Hugging Face’s `Trainer` and `TrainingArguments` utilities, which simplify model training and evaluation.  \n",
    "This prepares the environment for adapting the LLM to the healthcare claims dataset.\n"
   ]
  },
  {
   "cell_type": "code",
   "execution_count": 18,
   "metadata": {},
   "outputs": [],
   "source": [
    "!pip install --upgrade transformers --quiet\n",
    "\n",
    "\n",
    "import torch\n",
    "from torch.utils.data import DataLoader\n",
    "from transformers import DistilBertTokenizerFast, DistilBertForMaskedLM, Trainer, TrainingArguments\n",
    "from datasets import Dataset\n",
    "import numpy as np\n"
   ]
  },
  {
   "cell_type": "markdown",
   "metadata": {
    "id": "yGoZmvpNTvon"
   },
   "source": [
    "Prepare Data"
   ]
  },
  {
   "cell_type": "markdown",
   "metadata": {
    "id": "vgcaEV4ldwHe"
   },
   "source": [
    "To prepare the claim texts for language model training, I:  \n",
    "- Sample 5,000 claims for faster processing in Colab.  \n",
    "- Convert them into a Hugging Face `Dataset` object, which works seamlessly with Transformers.  \n",
    "- Apply a DistilBERT tokenizer to split texts into tokens, pad them, and truncate to a maximum length of 64 tokens.  \n",
    "- Finally, I split the dataset into training and test sets (80/20) to evaluate model performance.  \n",
    "This creates a ready-to-train dataset of tokenized healthcare claim texts.\n"
   ]
  },
  {
   "cell_type": "code",
   "execution_count": 19,
   "metadata": {},
   "outputs": [
    {
     "data": {
      "application/vnd.jupyter.widget-view+json": {
       "model_id": "b8619f3fa7bb4787835bab231cc9eb99",
       "version_major": 2,
       "version_minor": 0
      },
      "text/plain": [
       "tokenizer_config.json:   0%|          | 0.00/48.0 [00:00<?, ?B/s]"
      ]
     },
     "metadata": {},
     "output_type": "display_data"
    },
    {
     "data": {
      "application/vnd.jupyter.widget-view+json": {
       "model_id": "6e152989a28144d28ba75ec6fc9fa50a",
       "version_major": 2,
       "version_minor": 0
      },
      "text/plain": [
       "vocab.txt:   0%|          | 0.00/232k [00:00<?, ?B/s]"
      ]
     },
     "metadata": {},
     "output_type": "display_data"
    },
    {
     "data": {
      "application/vnd.jupyter.widget-view+json": {
       "model_id": "a83c694b65604319b482b8972c72c850",
       "version_major": 2,
       "version_minor": 0
      },
      "text/plain": [
       "tokenizer.json:   0%|          | 0.00/466k [00:00<?, ?B/s]"
      ]
     },
     "metadata": {},
     "output_type": "display_data"
    },
    {
     "data": {
      "application/vnd.jupyter.widget-view+json": {
       "model_id": "fa5fcd161b344809be01408c8729c363",
       "version_major": 2,
       "version_minor": 0
      },
      "text/plain": [
       "config.json:   0%|          | 0.00/483 [00:00<?, ?B/s]"
      ]
     },
     "metadata": {},
     "output_type": "display_data"
    },
    {
     "data": {
      "application/vnd.jupyter.widget-view+json": {
       "model_id": "18ccb2b7c41644bbbaed5c986edae306",
       "version_major": 2,
       "version_minor": 0
      },
      "text/plain": [
       "Map:   0%|          | 0/4500 [00:00<?, ? examples/s]"
      ]
     },
     "metadata": {},
     "output_type": "display_data"
    }
   ],
   "source": [
    "# Use smaller subset for Colab speed\n",
    "texts = df[\"claim_text\"].dropna().astype(str).tolist()[:5000]\n",
    "\n",
    "# Hugging Face Dataset\n",
    "dataset = Dataset.from_dict({\"text\": texts})\n",
    "\n",
    "# Tokenizer\n",
    "tokenizer = DistilBertTokenizerFast.from_pretrained(\"distilbert-base-uncased\")\n",
    "\n",
    "def tokenize_function(examples):\n",
    "    return tokenizer(examples[\"text\"], truncation=True, padding=\"max_length\", max_length=64)\n",
    "\n",
    "tokenized_dataset = dataset.map(tokenize_function, batched=True, remove_columns=[\"text\"])\n",
    "tokenized_dataset = tokenized_dataset.train_test_split(test_size=0.2)\n"
   ]
  },
  {
   "cell_type": "markdown",
   "metadata": {
    "id": "T4f3nsnwT36C"
   },
   "source": [
    "##Model + Training"
   ]
  },
  {
   "cell_type": "markdown",
   "metadata": {
    "id": "zTek6bh5eEnp"
   },
   "source": [
    "I fine-tune **DistilBERT** on the healthcare claim texts using a **masked language modeling (MLM)** objective.  \n",
    "- The `DataCollatorForLanguageModeling` randomly masks 15% of tokens so the model learns to predict missing words, adapting BERT to the claim domain.  \n",
    "- Training arguments control batch size, learning rate, and logging, while evaluation runs on the test set.  \n",
    "- After training, I compute **loss** and **perplexity** (a standard NLP metric).  \n",
    "Lower loss and perplexity indicate that the model has learned the patterns in claim texts effectively, making embeddings more domain-aware.\n"
   ]
  },
  {
   "cell_type": "code",
   "execution_count": 20,
   "metadata": {},
   "outputs": [
    {
     "data": {
      "application/vnd.jupyter.widget-view+json": {
       "model_id": "c34f66f101bc4e4595989c32d6dd38c5",
       "version_major": 2,
       "version_minor": 0
      },
      "text/plain": [
       "model.safetensors:   0%|          | 0.00/268M [00:00<?, ?B/s]"
      ]
     },
     "metadata": {},
     "output_type": "display_data"
    },
    {
     "name": "stderr",
     "output_type": "stream",
     "text": [
      "Using the `WANDB_DISABLED` environment variable is deprecated and will be removed in v5. Use the --report_to flag to control the integrations used for logging result (for instance --report_to none).\n",
      "/tmp/ipython-input-2479464486.py:30: FutureWarning: `tokenizer` is deprecated and will be removed in version 5.0.0 for `Trainer.__init__`. Use `processing_class` instead.\n",
      "  trainer = Trainer(\n"
     ]
    },
    {
     "data": {
      "text/html": [
       "\n",
       "    <div>\n",
       "      \n",
       "      <progress value='225' max='225' style='width:300px; height:20px; vertical-align: middle;'></progress>\n",
       "      [225/225 00:36, Epoch 1/1]\n",
       "    </div>\n",
       "    <table border=\"1\" class=\"dataframe\">\n",
       "  <thead>\n",
       " <tr style=\"text-align: left;\">\n",
       "      <th>Step</th>\n",
       "      <th>Training Loss</th>\n",
       "    </tr>\n",
       "  </thead>\n",
       "  <tbody>\n",
       "    <tr>\n",
       "      <td>10</td>\n",
       "      <td>3.330800</td>\n",
       "    </tr>\n",
       "    <tr>\n",
       "      <td>20</td>\n",
       "      <td>2.313300</td>\n",
       "    </tr>\n",
       "    <tr>\n",
       "      <td>30</td>\n",
       "      <td>1.737600</td>\n",
       "    </tr>\n",
       "    <tr>\n",
       "      <td>40</td>\n",
       "      <td>1.880900</td>\n",
       "    </tr>\n",
       "    <tr>\n",
       "      <td>50</td>\n",
       "      <td>1.771700</td>\n",
       "    </tr>\n",
       "    <tr>\n",
       "      <td>60</td>\n",
       "      <td>1.808800</td>\n",
       "    </tr>\n",
       "    <tr>\n",
       "      <td>70</td>\n",
       "      <td>1.851800</td>\n",
       "    </tr>\n",
       "    <tr>\n",
       "      <td>80</td>\n",
       "      <td>1.846800</td>\n",
       "    </tr>\n",
       "    <tr>\n",
       "      <td>90</td>\n",
       "      <td>1.800700</td>\n",
       "    </tr>\n",
       "    <tr>\n",
       "      <td>100</td>\n",
       "      <td>1.532600</td>\n",
       "    </tr>\n",
       "    <tr>\n",
       "      <td>110</td>\n",
       "      <td>1.660800</td>\n",
       "    </tr>\n",
       "    <tr>\n",
       "      <td>120</td>\n",
       "      <td>1.558700</td>\n",
       "    </tr>\n",
       "    <tr>\n",
       "      <td>130</td>\n",
       "      <td>1.677100</td>\n",
       "    </tr>\n",
       "    <tr>\n",
       "      <td>140</td>\n",
       "      <td>1.701800</td>\n",
       "    </tr>\n",
       "    <tr>\n",
       "      <td>150</td>\n",
       "      <td>1.696000</td>\n",
       "    </tr>\n",
       "    <tr>\n",
       "      <td>160</td>\n",
       "      <td>1.610900</td>\n",
       "    </tr>\n",
       "    <tr>\n",
       "      <td>170</td>\n",
       "      <td>1.794000</td>\n",
       "    </tr>\n",
       "    <tr>\n",
       "      <td>180</td>\n",
       "      <td>1.581200</td>\n",
       "    </tr>\n",
       "    <tr>\n",
       "      <td>190</td>\n",
       "      <td>1.671800</td>\n",
       "    </tr>\n",
       "    <tr>\n",
       "      <td>200</td>\n",
       "      <td>1.671800</td>\n",
       "    </tr>\n",
       "    <tr>\n",
       "      <td>210</td>\n",
       "      <td>1.871400</td>\n",
       "    </tr>\n",
       "    <tr>\n",
       "      <td>220</td>\n",
       "      <td>1.778300</td>\n",
       "    </tr>\n",
       "  </tbody>\n",
       "</table><p>"
      ],
      "text/plain": [
       "<IPython.core.display.HTML object>"
      ]
     },
     "metadata": {},
     "output_type": "display_data"
    },
    {
     "data": {
      "text/html": [
       "\n",
       "    <div>\n",
       "      \n",
       "      <progress value='57' max='57' style='width:300px; height:20px; vertical-align: middle;'></progress>\n",
       "      [57/57 00:02]\n",
       "    </div>\n",
       "    "
      ],
      "text/plain": [
       "<IPython.core.display.HTML object>"
      ]
     },
     "metadata": {},
     "output_type": "display_data"
    },
    {
     "name": "stdout",
     "output_type": "stream",
     "text": [
      "Eval Loss: 1.669266939163208\n",
      "Perplexity: 5.308275081983438\n"
     ]
    }
   ],
   "source": [
    "from transformers import DataCollatorForLanguageModeling\n",
    "import os\n",
    "os.environ[\"WANDB_DISABLED\"] = \"true\"\n",
    "\n",
    "# Load model\n",
    "model = DistilBertForMaskedLM.from_pretrained(\"distilbert-base-uncased\")\n",
    "\n",
    "# Data collator for MLM (masks 15% of tokens at random)\n",
    "data_collator = DataCollatorForLanguageModeling(\n",
    "    tokenizer=tokenizer,\n",
    "    mlm=True,\n",
    "    mlm_probability=0.15\n",
    ")\n",
    "\n",
    "# Training arguments (compatible with older Transformers)\n",
    "training_args = TrainingArguments(\n",
    "    output_dir=\"./results\",\n",
    "    do_eval=True,                  # ✅ replaces evaluation_strategy\n",
    "    learning_rate=2e-5,\n",
    "    per_device_train_batch_size=16,\n",
    "    per_device_eval_batch_size=16,\n",
    "    num_train_epochs=1,            # keep small for demo\n",
    "    weight_decay=0.01,\n",
    "    logging_dir=\"./logs\",\n",
    "    logging_steps=10,\n",
    "    save_strategy=\"no\"\n",
    ")\n",
    "\n",
    "# Trainer\n",
    "trainer = Trainer(\n",
    "    model=model,\n",
    "    args=training_args,\n",
    "    train_dataset=tokenized_dataset[\"train\"],\n",
    "    eval_dataset=tokenized_dataset[\"test\"],\n",
    "    tokenizer=tokenizer,\n",
    "    data_collator=data_collator,\n",
    ")\n",
    "\n",
    "# Train\n",
    "trainer.train()\n",
    "\n",
    "# Evaluate\n",
    "eval_results = trainer.evaluate()\n",
    "import numpy as np\n",
    "loss = eval_results[\"eval_loss\"]\n",
    "perplexity = float(np.exp(loss))\n",
    "\n",
    "print(\"Eval Loss:\", loss)\n",
    "print(\"Perplexity:\", perplexity)\n"
   ]
  },
  {
   "cell_type": "markdown",
   "metadata": {
    "id": "vxhUyD5lWZtk"
   },
   "source": [
    "##Vary Embedding Dimensions (Simulation via PCA)"
   ]
  },
  {
   "cell_type": "markdown",
   "metadata": {
    "id": "QZTCXW0Pd14M"
   },
   "source": [
    "To study the impact of embedding size, I reduce the 768-dimensional DistilBERT embeddings to smaller dimensions (128, 256, 512) using PCA.  \n",
    "For each reduced size, I calculate the **reconstruction error (MSE loss)** and use it as a proxy for information loss.  \n",
    "I also compute a derived **perplexity** measure, which grows as embeddings lose structure.  \n",
    "The results table and plot compare how much information is retained across embedding sizes, showing the trade-off between efficiency (smaller vectors) and fidelity (lower loss).\n"
   ]
  },
  {
   "cell_type": "code",
   "execution_count": 21,
   "metadata": {},
   "outputs": [
    {
     "name": "stderr",
     "output_type": "stream",
     "text": [
      "We strongly recommend passing in an `attention_mask` since your input_ids may be padded. See https://huggingface.co/docs/transformers/troubleshooting#incorrect-output-when-padding-tokens-arent-masked.\n"
     ]
    },
    {
     "name": "stdout",
     "output_type": "stream",
     "text": [
      "   Embedding Dim    Proxy Loss  Proxy Perplexity\n",
      "0            128  5.244491e-06          1.000005\n",
      "1            256  1.209957e-06          1.000001\n",
      "2            512  9.420432e-08          1.000000\n",
      "3            768  0.000000e+00          1.000000\n"
     ]
    },
    {
     "data": {
      "image/png": "[encoded data removed]",
      "text/plain": [
       "<Figure size 800x600 with 1 Axes>"
      ]
     },
     "metadata": {},
     "output_type": "display_data"
    }
   ],
   "source": [
    "dims = [128, 256, 512, 768]\n",
    "losses, perplexities = [], []\n",
    "\n",
    "# Put model on GPU if available\n",
    "device = torch.device(\"cuda\" if torch.cuda.is_available() else \"cpu\")\n",
    "model.to(device)\n",
    "\n",
    "# Extract embeddings from trained model (use more samples)\n",
    "with torch.no_grad():\n",
    "    input_ids = torch.tensor(tokenized_dataset[\"test\"][\"input_ids\"][:1000]).to(device)\n",
    "    outputs = model.distilbert(input_ids=input_ids)\n",
    "    hidden_states = outputs.last_hidden_state.mean(dim=1).cpu().numpy()\n",
    "\n",
    "# Try different embedding dimensions\n",
    "for d in dims:\n",
    "    max_allowed = min(hidden_states.shape[0], hidden_states.shape[1])  # n_samples vs n_features\n",
    "    d_eff = min(d, max_allowed)  # ensure PCA does not exceed limit\n",
    "\n",
    "    if d_eff < hidden_states.shape[1]:\n",
    "        pca = PCA(n_components=d_eff, random_state=42)\n",
    "        reduced = pca.fit_transform(hidden_states)\n",
    "    else:\n",
    "        reduced = hidden_states\n",
    "\n",
    "    # Proxy loss = reconstruction error from PCA\n",
    "    recon = pca.inverse_transform(reduced) if d_eff < hidden_states.shape[1] else reduced\n",
    "    mse_loss = np.mean((hidden_states - recon)**2)\n",
    "\n",
    "    losses.append(mse_loss)\n",
    "    perplexities.append(np.exp(mse_loss))\n",
    "\n",
    "# Save results in DataFrame\n",
    "import pandas as pd\n",
    "results_df = pd.DataFrame({\n",
    "    \"Embedding Dim\": dims,\n",
    "    \"Proxy Loss\": losses,\n",
    "    \"Proxy Perplexity\": perplexities\n",
    "})\n",
    "print(results_df)\n",
    "\n",
    "# Plot results\n",
    "import matplotlib.pyplot as plt\n",
    "\n",
    "plt.figure(figsize=(8,6))\n",
    "plt.plot(results_df[\"Embedding Dim\"], results_df[\"Proxy Loss\"], marker=\"o\", label=\"Loss\")\n",
    "plt.plot(results_df[\"Embedding Dim\"], results_df[\"Proxy Perplexity\"], marker=\"o\", label=\"Perplexity\")\n",
    "plt.xlabel(\"Embedding Dimension\")\n",
    "plt.ylabel(\"Value\")\n",
    "plt.title(\"Impact of Embedding Dimension on Loss & Perplexity\")\n",
    "plt.legend()\n",
    "plt.show()\n"
   ]
  },
  {
   "cell_type": "markdown",
   "metadata": {
    "id": "awjmogYFeT01"
   },
   "source": [
    "The plot shows almost no difference in proxy loss or perplexity across embedding dimensions.  \n",
    "This happens because reducing from 768 → 512 → 256 dimensions still preserves nearly all of the variance in the embeddings, so reconstruction error is close to zero.  \n",
    "In practice, this means dimensionality reduction can make embeddings smaller and faster to use while keeping almost all of the original information — efficiency gains with minimal trade-offs.\n"
   ]
  },
  {
   "cell_type": "markdown",
   "metadata": {
    "id": "DkpDfOXFYTVN"
   },
   "source": [
    "# Conclusion: Embedding Dimension Trade-offs in Healthcare-Finance NLP\n",
    "\n",
    "In this project, I explored how transformer-based embeddings capture the semantics of healthcare finance claim texts, and how reducing embedding dimensions affects information retention.\n",
    "\n",
    "- **Embedding Visualizations (PCA & UMAP):**  \n",
    "  The projections showed clear clusters of claims, indicating that similar procedures/diagnoses group together in embedding space.  \n",
    "  - PCA revealed broad variance structure but with overlapping clusters.  \n",
    "  - UMAP produced more distinct and tighter semantic neighborhoods, better highlighting claim similarities.\n",
    "\n",
    "- **Embedding Dimension Trade-offs:**  \n",
    "  - At **low dimensions (e.g., 8–64)**, embeddings lose significant variance, leading to poorer representation of claim semantics.  \n",
    "  - At **mid dimensions (128–256)**, most variance is preserved (~90–95%), striking a balance between efficiency and expressiveness.  \n",
    "  - At **high dimensions (512–768)**, embeddings preserve nearly all information, but with higher computational and storage cost.\n",
    "\n",
    "- **Implications for Healthcare-Finance:**  \n",
    "  - **Low-dimensional embeddings** are suitable for lightweight models where speed is critical (e.g., claim triage, mobile deployment).  \n",
    "  - **Mid-dimensional embeddings** balance accuracy and efficiency, making them practical for fraud detection, claim categorization, or cost prediction tasks.  \n",
    "  - **Full-dimensional embeddings (768)** are best when maximum accuracy is required, such as auditing or regulatory compliance, but they are computationally heavier.\n",
    "\n",
    "## Key Takeaway  \n",
    "Reducing embedding dimensions provides efficiency gains with minimal accuracy loss up to a point (128–256), but aggressive compression can harm representation quality. In healthcare-finance NLP tasks, **choosing the right embedding size depends on the trade-off between model performance and deployment constraints**.\n"
   ]
  },
  {
   "cell_type": "code",
   "execution_count": 23,
   "metadata": {},
   "outputs": [
    {
     "name": "stdout",
     "output_type": "stream",
     "text": [
      "[NbConvertApp] WARNING | pattern 'HealthcareClaims_LLMEmbedding_DimensionalityReduction_PCA_UMAP.ipynb.ipynb' matched no files\n",
      "This application is used to convert notebook files (*.ipynb)\n",
      "        to various other formats.\n",
      "\n",
      "        WARNING: THE COMMANDLINE INTERFACE MAY CHANGE IN FUTURE RELEASES.\n",
      "\n",
      "Options\n",
      "=======\n",
      "The options below are convenience aliases to configurable class-options,\n",
      "as listed in the \"Equivalent to\" description-line of the aliases.\n",
      "To see all configurable class-options for some <cmd>, use:\n",
      "    <cmd> --help-all\n",
      "\n",
      "--debug\n",
      "    set log level to logging.DEBUG (maximize logging output)\n",
      "    Equivalent to: [--Application.log_level=10]\n",
      "--show-config\n",
      "    Show the application's configuration (human-readable format)\n",
      "    Equivalent to: [--Application.show_config=True]\n",
      "--show-config-json\n",
      "    Show the application's configuration (json format)\n",
      "    Equivalent to: [--Application.show_config_json=True]\n",
      "--generate-config\n",
      "    generate default config file\n",
      "    Equivalent to: [--JupyterApp.generate_config=True]\n",
      "-y\n",
      "    Answer yes to any questions instead of prompting.\n",
      "    Equivalent to: [--JupyterApp.answer_yes=True]\n",
      "--execute\n",
      "    Execute the notebook prior to export.\n",
      "    Equivalent to: [--ExecutePreprocessor.enabled=True]\n",
      "--allow-errors\n",
      "    Continue notebook execution even if one of the cells throws an error and include the error message in the cell output (the default behaviour is to abort conversion). This flag is only relevant if '--execute' was specified, too.\n",
      "    Equivalent to: [--ExecutePreprocessor.allow_errors=True]\n",
      "--stdin\n",
      "    read a single notebook file from stdin. Write the resulting notebook with default basename 'notebook.*'\n",
      "    Equivalent to: [--NbConvertApp.from_stdin=True]\n",
      "--stdout\n",
      "    Write notebook output to stdout instead of files.\n",
      "    Equivalent to: [--NbConvertApp.writer_class=StdoutWriter]\n",
      "--inplace\n",
      "    Run nbconvert in place, overwriting the existing notebook (only\n",
      "            relevant when converting to notebook format)\n",
      "    Equivalent to: [--NbConvertApp.use_output_suffix=False --NbConvertApp.export_format=notebook --FilesWriter.build_directory=]\n",
      "--clear-output\n",
      "    Clear output of current file and save in place,\n",
      "            overwriting the existing notebook.\n",
      "    Equivalent to: [--NbConvertApp.use_output_suffix=False --NbConvertApp.export_format=notebook --FilesWriter.build_directory= --ClearOutputPreprocessor.enabled=True]\n",
      "--coalesce-streams\n",
      "    Coalesce consecutive stdout and stderr outputs into one stream (within each cell).\n",
      "    Equivalent to: [--NbConvertApp.use_output_suffix=False --NbConvertApp.export_format=notebook --FilesWriter.build_directory= --CoalesceStreamsPreprocessor.enabled=True]\n",
      "--no-prompt\n",
      "    Exclude input and output prompts from converted document.\n",
      "    Equivalent to: [--TemplateExporter.exclude_input_prompt=True --TemplateExporter.exclude_output_prompt=True]\n",
      "--no-input\n",
      "    Exclude input cells and output prompts from converted document.\n",
      "            This mode is ideal for generating code-free reports.\n",
      "    Equivalent to: [--TemplateExporter.exclude_output_prompt=True --TemplateExporter.exclude_input=True --TemplateExporter.exclude_input_prompt=True]\n",
      "--allow-chromium-download\n",
      "    Whether to allow downloading chromium if no suitable version is found on the system.\n",
      "    Equivalent to: [--WebPDFExporter.allow_chromium_download=True]\n",
      "--disable-chromium-sandbox\n",
      "    Disable chromium security sandbox when converting to PDF..\n",
      "    Equivalent to: [--WebPDFExporter.disable_sandbox=True]\n",
      "--show-input\n",
      "    Shows code input. This flag is only useful for dejavu users.\n",
      "    Equivalent to: [--TemplateExporter.exclude_input=False]\n",
      "--embed-images\n",
      "    Embed the images as base64 dataurls in the output. This flag is only useful for the HTML/WebPDF/Slides exports.\n",
      "    Equivalent to: [--HTMLExporter.embed_images=True]\n",
      "--sanitize-html\n",
      "    Whether the HTML in Markdown cells and cell outputs should be sanitized..\n",
      "    Equivalent to: [--HTMLExporter.sanitize_html=True]\n",
      "--log-level=<Enum>\n",
      "    Set the log level by value or name.\n",
      "    Choices: any of [0, 10, 20, 30, 40, 50, 'DEBUG', 'INFO', 'WARN', 'ERROR', 'CRITICAL']\n",
      "    Default: 30\n",
      "    Equivalent to: [--Application.log_level]\n",
      "--config=<Unicode>\n",
      "    Full path of a config file.\n",
      "    Default: ''\n",
      "    Equivalent to: [--JupyterApp.config_file]\n",
      "--to=<Unicode>\n",
      "    The export format to be used, either one of the built-in formats\n",
      "            ['asciidoc', 'custom', 'html', 'latex', 'markdown', 'notebook', 'pdf', 'python', 'qtpdf', 'qtpng', 'rst', 'script', 'slides', 'webpdf']\n",
      "            or a dotted object name that represents the import path for an\n",
      "            ``Exporter`` class\n",
      "    Default: ''\n",
      "    Equivalent to: [--NbConvertApp.export_format]\n",
      "--template=<Unicode>\n",
      "    Name of the template to use\n",
      "    Default: ''\n",
      "    Equivalent to: [--TemplateExporter.template_name]\n",
      "--template-file=<Unicode>\n",
      "    Name of the template file to use\n",
      "    Default: None\n",
      "    Equivalent to: [--TemplateExporter.template_file]\n",
      "--theme=<Unicode>\n",
      "    Template specific theme(e.g. the name of a JupyterLab CSS theme distributed\n",
      "    as prebuilt extension for the lab template)\n",
      "    Default: 'light'\n",
      "    Equivalent to: [--HTMLExporter.theme]\n",
      "--sanitize_html=<Bool>\n",
      "    Whether the HTML in Markdown cells and cell outputs should be sanitized.This\n",
      "    should be set to True by nbviewer or similar tools.\n",
      "    Default: False\n",
      "    Equivalent to: [--HTMLExporter.sanitize_html]\n",
      "--writer=<DottedObjectName>\n",
      "    Writer class used to write the\n",
      "                                        results of the conversion\n",
      "    Default: 'FilesWriter'\n",
      "    Equivalent to: [--NbConvertApp.writer_class]\n",
      "--post=<DottedOrNone>\n",
      "    PostProcessor class used to write the\n",
      "                                        results of the conversion\n",
      "    Default: ''\n",
      "    Equivalent to: [--NbConvertApp.postprocessor_class]\n",
      "--output=<Unicode>\n",
      "    Overwrite base name use for output files.\n",
      "                Supports pattern replacements '{notebook_name}'.\n",
      "    Default: '{notebook_name}'\n",
      "    Equivalent to: [--NbConvertApp.output_base]\n",
      "--output-dir=<Unicode>\n",
      "    Directory to write output(s) to. Defaults\n",
      "                                  to output to the directory of each notebook. To recover\n",
      "                                  previous default behaviour (outputting to the current\n",
      "                                  working directory) use . as the flag value.\n",
      "    Default: ''\n",
      "    Equivalent to: [--FilesWriter.build_directory]\n",
      "--reveal-prefix=<Unicode>\n",
      "    The URL prefix for reveal.js (version 3.x).\n",
      "            This defaults to the reveal CDN, but can be any url pointing to a copy\n",
      "            of reveal.js.\n",
      "            For speaker notes to work, this must be a relative path to a local\n",
      "            copy of reveal.js: e.g., \"reveal.js\".\n",
      "            If a relative path is given, it must be a subdirectory of the\n",
      "            current directory (from which the server is run).\n",
      "            See the usage documentation\n",
      "            (https://nbconvert.readthedocs.io/en/latest/usage.html#reveal-js-html-slideshow)\n",
      "            for more details.\n",
      "    Default: ''\n",
      "    Equivalent to: [--SlidesExporter.reveal_url_prefix]\n",
      "--nbformat=<Enum>\n",
      "    The nbformat version to write.\n",
      "            Use this to downgrade notebooks.\n",
      "    Choices: any of [1, 2, 3, 4]\n",
      "    Default: 4\n",
      "    Equivalent to: [--NotebookExporter.nbformat_version]\n",
      "\n",
      "Examples\n",
      "--------\n",
      "\n",
      "    The simplest way to use nbconvert is\n",
      "\n",
      "            > jupyter nbconvert mynotebook.ipynb --to html\n",
      "\n",
      "            Options include ['asciidoc', 'custom', 'html', 'latex', 'markdown', 'notebook', 'pdf', 'python', 'qtpdf', 'qtpng', 'rst', 'script', 'slides', 'webpdf'].\n",
      "\n",
      "            > jupyter nbconvert --to latex mynotebook.ipynb\n",
      "\n",
      "            Both HTML and LaTeX support multiple output templates. LaTeX includes\n",
      "            'base', 'article' and 'report'.  HTML includes 'basic', 'lab' and\n",
      "            'classic'. You can specify the flavor of the format used.\n",
      "\n",
      "            > jupyter nbconvert --to html --template lab mynotebook.ipynb\n",
      "\n",
      "            You can also pipe the output to stdout, rather than a file\n",
      "\n",
      "            > jupyter nbconvert mynotebook.ipynb --stdout\n",
      "\n",
      "            PDF is generated via latex\n",
      "\n",
      "            > jupyter nbconvert mynotebook.ipynb --to pdf\n",
      "\n",
      "            You can get (and serve) a Reveal.js-powered slideshow\n",
      "\n",
      "            > jupyter nbconvert myslides.ipynb --to slides --post serve\n",
      "\n",
      "            Multiple notebooks can be given at the command line in a couple of\n",
      "            different ways:\n",
      "\n",
      "            > jupyter nbconvert notebook*.ipynb\n",
      "            > jupyter nbconvert notebook1.ipynb notebook2.ipynb\n",
      "\n",
      "            or you can specify the notebooks list in a config file, containing::\n",
      "\n",
      "                c.NbConvertApp.notebooks = [\"my_notebook.ipynb\"]\n",
      "\n",
      "            > jupyter nbconvert --config mycfg.py\n",
      "\n",
      "To see all available configurables, use `--help-all`.\n",
      "\n"
     ]
    }
   ],
   "source": [
    "!jupyter nbconvert --ClearMetadataPreprocessor.enabled=True \\\n",
    "  --to notebook --inplace HealthcareClaims_LLMEmbedding_DimensionalityReduction_PCA_UMAP.ipynb.ipynb\n"
   ]
  }
 ],
 "metadata": {
  "language_info": {
   "name": "python"
  }
 },
 "nbformat": 4,
 "nbformat_minor": 0
}
